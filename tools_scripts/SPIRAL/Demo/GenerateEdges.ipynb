{
 "cells": [
  {
   "cell_type": "code",
   "execution_count": 1,
   "id": "572987ef",
   "metadata": {},
   "outputs": [],
   "source": [
    "import os\n",
    "import scanpy as sc\n",
    "import pandas as pd\n",
    "import numpy as np\n",
    "import sklearn.neighbors\n",
    "import scipy.sparse as sp\n",
    "from sklearn.decomposition import PCA"
   ]
  },
  {
   "cell_type": "code",
   "execution_count": 2,
   "id": "de9c164f",
   "metadata": {},
   "outputs": [],
   "source": [
    "def Cal_Spatial_Net(adata, rad_cutoff=None, k_cutoff=None, model='Radius', verbose=True):\n",
    "    \"\"\"\\\n",
    "    Construct the spatial neighbor networks.\n",
    "\n",
    "    Parameters\n",
    "    ----------\n",
    "    adata\n",
    "        AnnData object of scanpy package.\n",
    "    rad_cutoff\n",
    "        radius cutoff when model='Radius'\n",
    "    k_cutoff\n",
    "        The number of nearest neighbors when model='KNN'\n",
    "    model\n",
    "        The network construction model. When model=='Radius', the spot is connected to spots whose distance is less than rad_cutoff. When model=='KNN', the spot is connected to its first k_cutoff nearest neighbors.\n",
    "    \n",
    "    Returns\n",
    "    -------\n",
    "    The spatial networks are saved in adata.uns['Spatial_Net']\n",
    "    \"\"\"\n",
    "\n",
    "    assert(model in ['Radius', 'KNN'])\n",
    "    if verbose:\n",
    "        print('------Calculating spatial graph...')\n",
    "    coor = pd.DataFrame(adata.obsm['spatial'])\n",
    "    coor.index = adata.obs.index\n",
    "#     coor.columns = ['imagerow', 'imagecol']\n",
    "\n",
    "    if model == 'Radius':\n",
    "        nbrs = sklearn.neighbors.NearestNeighbors(radius=rad_cutoff).fit(coor)\n",
    "        distances, indices = nbrs.radius_neighbors(coor, return_distance=True)\n",
    "        KNN_list = []\n",
    "        for it in range(indices.shape[0]):\n",
    "            KNN_list.append(pd.DataFrame(zip([it]*indices[it].shape[0], indices[it], distances[it])))\n",
    "    \n",
    "    if model == 'KNN':\n",
    "        nbrs = sklearn.neighbors.NearestNeighbors(n_neighbors=k_cutoff+1).fit(coor)\n",
    "        distances, indices = nbrs.kneighbors(coor)\n",
    "        KNN_list = []\n",
    "        for it in range(indices.shape[0]):\n",
    "            KNN_list.append(pd.DataFrame(zip([it]*indices.shape[1],indices[it,:], distances[it,:])))\n",
    "\n",
    "    KNN_df = pd.concat(KNN_list)\n",
    "    KNN_df.columns = ['Cell1', 'Cell2', 'Distance']\n",
    "\n",
    "    Spatial_Net = KNN_df.copy()\n",
    "    Spatial_Net = Spatial_Net.loc[Spatial_Net['Distance']>0,]\n",
    "    id_cell_trans = dict(zip(range(coor.shape[0]), np.array(coor.index), ))\n",
    "    Spatial_Net['Cell1'] = Spatial_Net['Cell1'].map(id_cell_trans)\n",
    "    Spatial_Net['Cell2'] = Spatial_Net['Cell2'].map(id_cell_trans)\n",
    "    if verbose:\n",
    "        print('The graph contains %d edges, %d cells.' %(Spatial_Net.shape[0], adata.n_obs))\n",
    "        print('%.4f neighbors per cell on average.' %(Spatial_Net.shape[0]/adata.n_obs))\n",
    "\n",
    "    adata.uns['Spatial_Net'] = Spatial_Net"
   ]
  },
  {
   "cell_type": "markdown",
   "id": "26e34692",
   "metadata": {},
   "source": [
    "模拟"
   ]
  },
  {
   "cell_type": "code",
   "execution_count": 4,
   "id": "ae9a05ca",
   "metadata": {},
   "outputs": [],
   "source": [
    "dirs=\"/data02/tguo/space_batch_effect/simulate/\"\n",
    "# batch_sim=\"_1_2\"\n",
    "# types=\"_3batch_types6\"\n",
    "batch_sim=\"_1\"\n",
    "types=\"_types7\"\n",
    "\n",
    "feat=sc.read_mtx(dirs+\"origin/mat\"+str(batch_sim)+types+\".mtx\")\n",
    "feat=np.transpose(feat.X.toarray())\n",
    "gene=np.loadtxt(dirs+\"origin/mat_rownames\"+str(batch_sim)+types+\".txt\",dtype=str)\n",
    "cells=np.loadtxt(dirs+\"origin/mat_colnames\"+str(batch_sim)+types+\".txt\",dtype=str)\n",
    "feat=pd.DataFrame(feat,index=cells,columns=gene)\n",
    "meta=pd.read_csv(dirs+\"origin/meta\"+str(batch_sim)+types+\".txt\",header=0,index_col=0,sep=',')\n",
    "batch=meta.loc[:,'batch'].values\n",
    "cells=np.array(meta.index)\n",
    "cell1=cells[np.where(batch==np.unique(batch)[0])[0]]\n",
    "cell2=cells[np.where(batch==np.unique(batch)[1])[0]]\n",
    "feat1=feat.loc[cell1,:]\n",
    "feat2=feat.loc[cell2,:]\n",
    "feat1.to_csv(dirs+\"gtt_input/feat1\"+str(batch_sim)+types+\".csv\")\n",
    "feat2.to_csv(dirs+\"gtt_input/feat2\"+str(batch_sim)+types+\".csv\")\n",
    "meta1=meta.loc[cell1,:]\n",
    "meta2=meta.loc[cell2,:]\n",
    "meta1.to_csv(dirs+\"gtt_input/meta1\"+str(batch_sim)+types+\".csv\")\n",
    "meta2.to_csv(dirs+\"gtt_input/meta2\"+str(batch_sim)+types+\".csv\")\n",
    "posi=pd.read_csv(dirs+\"origin/spatial_posi\"+str(batch_sim)+types+\".txt\",header=0,index_col=0,sep=',')\n",
    "coord=posi.loc[:,['x','y']]\n",
    "coord1=coord.loc[cell1,:]\n",
    "coord2=coord.loc[cell2,:]\n",
    "coord1.to_csv(dirs+\"gtt_input/coord1\"+str(batch_sim)+types+\".csv\")\n",
    "coord2.to_csv(dirs+\"gtt_input/coord2\"+str(batch_sim)+types+\".csv\")\n",
    "\n",
    "\n",
    "# cell3=cells[np.where(batch==np.unique(batch)[2])[0]]\n",
    "# feat3=feat.loc[cell3,:]\n",
    "# feat3.to_csv(dirs+\"gtt_input/feat3\"+str(batch_sim)+types+\".csv\")\n",
    "# meta3=meta.loc[cell3,:]\n",
    "# meta3.to_csv(dirs+\"gtt_input/meta3\"+str(batch_sim)+types+\".csv\")\n",
    "# coord3=coord.loc[cell3,:]\n",
    "# coord3.to_csv(dirs+\"gtt_input/coord3\"+str(batch_sim)+types+\".csv\")"
   ]
  },
  {
   "cell_type": "code",
   "execution_count": 6,
   "id": "990fff69",
   "metadata": {},
   "outputs": [
    {
     "name": "stdout",
     "output_type": "stream",
     "text": [
      "------Calculating spatial graph...\n",
      "The graph contains 60000 edges, 6000 cells.\n",
      "10.0000 neighbors per cell on average.\n"
     ]
    }
   ],
   "source": [
    "knn=10\n",
    "dirs=\"/data02/tguo/space_batch_effect/simulate/\"\n",
    "# batch_sim=\"_1_2\"\n",
    "# types=\"_3batch_types6\"\n",
    "batch_sim=\"_1\"\n",
    "types=\"_types7\"\n",
    "idx=2\n",
    "features=pd.read_csv(dirs+\"gtt_input/feat\"+str(idx)+str(batch_sim)+types+\".csv\",header=0,index_col=0,sep=',')\n",
    "meta=pd.read_csv(dirs+\"gtt_input/meta\"+str(idx)+str(batch_sim)+types+\".csv\",header=0,index_col=0,sep=',')\n",
    "coord=pd.read_csv(dirs+\"gtt_input/coord\"+str(idx)+str(batch_sim)+types+\".csv\",header=0,index_col=0,sep=',')\n",
    "\n",
    "# idx=np.where((meta.loc[:,'celltype'].values=='Group5')|(meta.loc[:,'celltype'].values=='Group6')|\n",
    "#              (meta.loc[:,'celltype'].values=='Group3')|(meta.loc[:,'celltype'].values=='Group4'))[0]\n",
    "# features=features.iloc[idx,:]\n",
    "# meta=meta.iloc[idx,:]\n",
    "# coord=coord.iloc[idx,:]\n",
    "# features.to_csv(dirs+\"gtt_input/feat2\"+str(batch_sim)+types+\"_subset.csv\")\n",
    "# meta.to_csv(dirs+\"gtt_input/meta2\"+str(batch_sim)+types+\"_subset.csv\")\n",
    "# coord.to_csv(dirs+\"gtt_input/coord2\"+str(batch_sim)+types+\"_subset.csv\")\n",
    "\n",
    "\n",
    "adata = sc.AnnData(features)\n",
    "adata.var_names_make_unique()\n",
    "adata.X=sp.csr_matrix(adata.X)\n",
    "adata.obsm[\"spatial\"] = coord.loc[:,['x','y']].to_numpy()\n",
    "Cal_Spatial_Net(adata, rad_cutoff=None, k_cutoff=knn, model='KNN', verbose=True)\n",
    "if 'highly_variable' in adata.var.columns:\n",
    "    adata_Vars =  adata[:, adata.var['highly_variable']]\n",
    "else:\n",
    "    adata_Vars = adata\n",
    "features = pd.DataFrame(adata_Vars.X.toarray()[:, ], index=adata_Vars.obs.index, columns=adata_Vars.var.index)\n",
    "cells = np.array(features.index)\n",
    "cells_id_tran = dict(zip(cells, range(cells.shape[0])))\n",
    "if 'Spatial_Net' not in adata.uns.keys():\n",
    "    raise ValueError(\"Spatial_Net is not existed! Run Cal_Spatial_Net first!\")\n",
    "\n",
    "Spatial_Net = adata.uns['Spatial_Net']\n",
    "G_df = Spatial_Net.copy()\n",
    "np.savetxt(dirs+\"gtt_input/edge\"+str(idx)+\"_KNN_\"+str(knn)+str(batch_sim)+types+\".csv\",G_df.values[:,:2],fmt='%s')"
   ]
  },
  {
   "cell_type": "markdown",
   "id": "e44defdd",
   "metadata": {},
   "source": [
    "DLPFC"
   ]
  },
  {
   "cell_type": "code",
   "execution_count": 11,
   "id": "87fa195c",
   "metadata": {},
   "outputs": [
    {
     "name": "stdout",
     "output_type": "stream",
     "text": [
      "------Calculating spatial graph...\n",
      "The graph contains 21396 edges, 3566 cells.\n",
      "6.0000 neighbors per cell on average.\n",
      "------Calculating spatial graph...\n",
      "The graph contains 20586 edges, 3431 cells.\n",
      "6.0000 neighbors per cell on average.\n"
     ]
    }
   ],
   "source": [
    "rad=150\n",
    "KNN=6\n",
    "dirs=\"/data02/tguo/space_batch_effect/human_DLPFC_10x/\"\n",
    "sample_name=[151507,151508,151509,151510,151669,151670,151671,151672,151673,151674,151675,151676]\n",
    "\n",
    "IDX=[10,11]\n",
    "flags=str(sample_name[IDX[0]])\n",
    "for i in np.arange(1,len(IDX)):\n",
    "    flags=flags+'-'+str(sample_name[IDX[i]])\n",
    "for i in IDX:\n",
    "    sample1=sample_name[i]\n",
    "    features=pd.read_csv(dirs+\"gtt_input_scanpy/\"+flags+'_'+str(sample1)+\"_features.txt\",header=0,index_col=0,sep=',')\n",
    "    meta=pd.read_csv(dirs+\"gtt_input_scanpy/\"+flags+'_'+str(sample1)+\"_label.txt\",header=0,index_col=0,sep=',')\n",
    "    coord=pd.read_csv(dirs+\"gtt_input_scanpy/\"+flags+'_'+str(sample1)+\"_positions.txt\",header=0,index_col=0,sep=',')\n",
    "    # meta=meta.iloc[:meta.shape[0]-1,:]\n",
    "    adata = sc.AnnData(features)\n",
    "    adata.var_names_make_unique()\n",
    "    adata.X=sp.csr_matrix(adata.X)\n",
    "    adata.obsm[\"spatial\"] = coord.loc[:,['x','y']].to_numpy()\n",
    "    Cal_Spatial_Net(adata, rad_cutoff=rad, k_cutoff=6, model='KNN', verbose=True)\n",
    "    if 'highly_variable' in adata.var.columns:\n",
    "        adata_Vars =  adata[:, adata.var['highly_variable']]\n",
    "    else:\n",
    "        adata_Vars = adata\n",
    "    features = pd.DataFrame(adata_Vars.X.toarray()[:, ], index=adata_Vars.obs.index, columns=adata_Vars.var.index)\n",
    "    cells = np.array(features.index)\n",
    "    cells_id_tran = dict(zip(cells, range(cells.shape[0])))\n",
    "    if 'Spatial_Net' not in adata.uns.keys():\n",
    "        raise ValueError(\"Spatial_Net is not existed! Run Cal_Spatial_Net first!\")\n",
    "\n",
    "    Spatial_Net = adata.uns['Spatial_Net']\n",
    "    G_df = Spatial_Net.copy()\n",
    "    np.savetxt(dirs+\"gtt_input_scanpy/\"+flags+'_'+str(sample1)+\"_edge_KNN_\"+str(KNN)+\".csv\",G_df.values[:,:2],fmt='%s')\n",
    "\n",
    "    # G_df['Cell1'] = G_df['Cell1'].map(cells_id_tran)\n",
    "    # G_df['Cell2'] = G_df['Cell2'].map(cells_id_tran)\n",
    "    # adj = sp.coo_matrix((np.ones(G_df.shape[0]), (G_df['Cell1'], G_df['Cell2'])), shape=(adata.n_obs, adata.n_obs))\n",
    "    # adj+=adj.T.multiply(adj.T>adj)-adj.multiply(adj.T>adj)\n",
    "    # features=torch.FloatTensor(features.values)"
   ]
  },
  {
   "cell_type": "markdown",
   "id": "21bb2328",
   "metadata": {},
   "source": [
    "PDAC"
   ]
  },
  {
   "cell_type": "code",
   "execution_count": 20,
   "id": "cfc202a5",
   "metadata": {
    "collapsed": true
   },
   "outputs": [
    {
     "name": "stderr",
     "output_type": "stream",
     "text": [
      "/home/tguo/tguo2/miniconda3/envs/stnet/lib/python3.6/site-packages/anndata/utils.py:141: UserWarning: X converted to numpy array with dtype float64\n",
      "  warnings.warn(f\"{name} converted to numpy array with dtype {arr.dtype}\")\n"
     ]
    },
    {
     "name": "stdout",
     "output_type": "stream",
     "text": [
      "------Calculating spatial graph...\n",
      "The graph contains 1436 edges, 359 cells.\n",
      "4.0000 neighbors per cell on average.\n"
     ]
    }
   ],
   "source": [
    "knn=4\n",
    "dirs=\"/data02/tguo/space_batch_effect/PDAC/\"\n",
    "sample=\"PDAC-E-ST1\"\n",
    "feat=pd.read_csv(dirs+\"gtt_input/\"+sample+\"_mat.csv\",header=0,index_col=0,sep=',')\n",
    "coord=pd.read_csv(dirs+\"gtt_input/\"+sample+\"_coord.csv\",header=0,index_col=0,sep=',')\n",
    "coord.columns=['x','y']\n",
    "adata = sc.AnnData(feat)\n",
    "adata.var_names_make_unique()\n",
    "adata.X=sp.csr_matrix(adata.X)\n",
    "adata.obsm[\"spatial\"] = coord.loc[:,['x','y']].to_numpy()\n",
    "Cal_Spatial_Net(adata, k_cutoff=knn, model='KNN', verbose=True)\n",
    "if 'highly_variable' in adata.var.columns:\n",
    "    adata_Vars =  adata[:, adata.var['highly_variable']]\n",
    "else:\n",
    "    adata_Vars = adata\n",
    "features = pd.DataFrame(adata_Vars.X.toarray()[:, ], index=adata_Vars.obs.index, columns=adata_Vars.var.index)\n",
    "cells = np.array(features.index)\n",
    "cells_id_tran = dict(zip(cells, range(cells.shape[0])))\n",
    "if 'Spatial_Net' not in adata.uns.keys():\n",
    "    raise ValueError(\"Spatial_Net is not existed! Run Cal_Spatial_Net first!\")\n",
    "\n",
    "Spatial_Net = adata.uns['Spatial_Net']\n",
    "G_df = Spatial_Net.copy()\n",
    "np.savetxt(dirs+\"gtt_input/\"+sample+\"_edge_KNN_\"+str(knn)+\".csv\",G_df.values[:,:2],fmt='%s')"
   ]
  },
  {
   "cell_type": "markdown",
   "id": "18387bf7",
   "metadata": {},
   "source": [
    "mouse brain"
   ]
  },
  {
   "cell_type": "code",
   "execution_count": 4,
   "id": "227b54f8",
   "metadata": {
    "collapsed": true
   },
   "outputs": [
    {
     "name": "stderr",
     "output_type": "stream",
     "text": [
      "/home/tguo/tguo2/miniconda3/envs/stnet/lib/python3.6/site-packages/anndata/utils.py:141: UserWarning: X converted to numpy array with dtype float64\n",
      "  warnings.warn(f\"{name} converted to numpy array with dtype {arr.dtype}\")\n"
     ]
    },
    {
     "name": "stdout",
     "output_type": "stream",
     "text": [
      "------Calculating spatial graph...\n",
      "The graph contains 16950 edges, 2825 cells.\n",
      "6.0000 neighbors per cell on average.\n"
     ]
    }
   ],
   "source": [
    "knn=6\n",
    "rad=10\n",
    "dirs=\"/data02/tguo/space_batch_effect/mouse_brain/\"\n",
    "sample=\"pa_anterior2\"\n",
    "feat=pd.read_csv(dirs+\"gtt_input/\"+sample+\"_mat.csv\",header=0,index_col=0,sep=',')\n",
    "coord=pd.read_csv(dirs+\"gtt_input/\"+sample+\"_coord.csv\",header=0,index_col=0,sep=',')\n",
    "coord.columns=['x','y']\n",
    "adata = sc.AnnData(feat)\n",
    "adata.var_names_make_unique()\n",
    "adata.X=sp.csr_matrix(adata.X)\n",
    "adata.obsm[\"spatial\"] = coord.loc[:,['x','y']].to_numpy()\n",
    "Cal_Spatial_Net(adata, rad_cutoff=rad, k_cutoff=knn, model='KNN', verbose=True)\n",
    "if 'highly_variable' in adata.var.columns:\n",
    "    adata_Vars =  adata[:, adata.var['highly_variable']]\n",
    "else:\n",
    "    adata_Vars = adata\n",
    "features = pd.DataFrame(adata_Vars.X.toarray()[:, ], index=adata_Vars.obs.index, columns=adata_Vars.var.index)\n",
    "cells = np.array(features.index)\n",
    "cells_id_tran = dict(zip(cells, range(cells.shape[0])))\n",
    "if 'Spatial_Net' not in adata.uns.keys():\n",
    "    raise ValueError(\"Spatial_Net is not existed! Run Cal_Spatial_Net first!\")\n",
    "\n",
    "Spatial_Net = adata.uns['Spatial_Net']\n",
    "G_df = Spatial_Net.copy()\n",
    "np.savetxt(dirs+\"gtt_input/\"+sample+\"_edge_KNN_\"+str(knn)+\".csv\",G_df.values[:,:2],fmt='%s')"
   ]
  },
  {
   "cell_type": "markdown",
   "id": "1555dd33",
   "metadata": {},
   "source": [
    "breast cancer"
   ]
  },
  {
   "cell_type": "code",
   "execution_count": 37,
   "id": "ede8f7e4",
   "metadata": {
    "collapsed": true
   },
   "outputs": [
    {
     "name": "stderr",
     "output_type": "stream",
     "text": [
      "/home/tguo/tguo2/miniconda3/envs/stnet/lib/python3.6/site-packages/anndata/utils.py:141: UserWarning: X converted to numpy array with dtype float64\n",
      "  warnings.warn(f\"{name} converted to numpy array with dtype {arr.dtype}\")\n"
     ]
    },
    {
     "name": "stdout",
     "output_type": "stream",
     "text": [
      "------Calculating spatial graph...\n",
      "The graph contains 23922 edges, 3987 cells.\n",
      "6.0000 neighbors per cell on average.\n"
     ]
    }
   ],
   "source": [
    "knn=6\n",
    "rad=10\n",
    "dirs=\"/data02/tguo/space_batch_effect/breast_cancer/\"\n",
    "sample=\"10X-2\"\n",
    "feat=pd.read_csv(dirs+\"gtt_input/\"+sample+\"_mat.csv\",header=0,index_col=0,sep=',')\n",
    "coord=pd.read_csv(dirs+\"gtt_input/\"+sample+\"_coord.csv\",header=0,index_col=0,sep=',')\n",
    "coord.columns=['x','y']\n",
    "adata = sc.AnnData(feat)\n",
    "adata.var_names_make_unique()\n",
    "adata.X=sp.csr_matrix(adata.X)\n",
    "adata.obsm[\"spatial\"] = coord.loc[:,['x','y']].to_numpy()\n",
    "Cal_Spatial_Net(adata, rad_cutoff=rad, k_cutoff=knn, model='KNN', verbose=True)\n",
    "if 'highly_variable' in adata.var.columns:\n",
    "    adata_Vars =  adata[:, adata.var['highly_variable']]\n",
    "else:\n",
    "    adata_Vars = adata\n",
    "features = pd.DataFrame(adata_Vars.X.toarray()[:, ], index=adata_Vars.obs.index, columns=adata_Vars.var.index)\n",
    "cells = np.array(features.index)\n",
    "cells_id_tran = dict(zip(cells, range(cells.shape[0])))\n",
    "if 'Spatial_Net' not in adata.uns.keys():\n",
    "    raise ValueError(\"Spatial_Net is not existed! Run Cal_Spatial_Net first!\")\n",
    "\n",
    "Spatial_Net = adata.uns['Spatial_Net']\n",
    "G_df = Spatial_Net.copy()\n",
    "np.savetxt(dirs+\"gtt_input/\"+sample+\"_edge_KNN_\"+str(knn)+\".csv\",G_df.values[:,:2],fmt='%s')"
   ]
  },
  {
   "cell_type": "markdown",
   "id": "56a21691",
   "metadata": {},
   "source": [
    "mouse OB"
   ]
  },
  {
   "cell_type": "code",
   "execution_count": 8,
   "id": "8a64e13d",
   "metadata": {},
   "outputs": [
    {
     "name": "stderr",
     "output_type": "stream",
     "text": [
      "/home/tguo/tguo2/miniconda3/envs/stnet/lib/python3.6/site-packages/anndata/utils.py:141: UserWarning: X converted to numpy array with dtype float64\n",
      "  warnings.warn(f\"{name} converted to numpy array with dtype {arr.dtype}\")\n"
     ]
    },
    {
     "name": "stdout",
     "output_type": "stream",
     "text": [
      "------Calculating spatial graph...\n",
      "The graph contains 148296 edges, 18537 cells.\n",
      "8.0000 neighbors per cell on average.\n"
     ]
    }
   ],
   "source": [
    "knn=8\n",
    "rad=1.5\n",
    "mode='KNN'\n",
    "mode_num=knn\n",
    "dirs=\"/data02/tguo/space_batch_effect/mouse_OB/\"\n",
    "# extra_dirs=\"Stereo-seq-higher-resolution-filter/\"\n",
    "extra_dirs=\"Stereo-bin34-filter/\"\n",
    "sample=\"SlideV2\"\n",
    "feat=pd.read_csv(dirs+\"gtt_input/\"+extra_dirs+sample+\"_mat.csv\",header=0,index_col=0,sep=',')\n",
    "coord=pd.read_csv(dirs+\"gtt_input/\"+extra_dirs+sample+\"_coord.csv\",header=0,index_col=0,sep=',')\n",
    "coord.columns=['x','y']\n",
    "adata = sc.AnnData(feat)\n",
    "adata.var_names_make_unique()\n",
    "adata.X=sp.csr_matrix(adata.X)\n",
    "adata.obsm[\"spatial\"] = coord.loc[:,['x','y']].to_numpy()\n",
    "Cal_Spatial_Net(adata, rad_cutoff=rad, k_cutoff=knn, model=mode, verbose=True)\n",
    "if 'highly_variable' in adata.var.columns:\n",
    "    adata_Vars =  adata[:, adata.var['highly_variable']]\n",
    "else:\n",
    "    adata_Vars = adata\n",
    "features = pd.DataFrame(adata_Vars.X.toarray()[:, ], index=adata_Vars.obs.index, columns=adata_Vars.var.index)\n",
    "cells = np.array(features.index)\n",
    "cells_id_tran = dict(zip(cells, range(cells.shape[0])))\n",
    "if 'Spatial_Net' not in adata.uns.keys():\n",
    "    raise ValueError(\"Spatial_Net is not existed! Run Cal_Spatial_Net first!\")\n",
    "\n",
    "Spatial_Net = adata.uns['Spatial_Net']\n",
    "G_df = Spatial_Net.copy()\n",
    "\n",
    "\n",
    "a=G_df.values[:,:2]\n",
    "np.savetxt(dirs+\"gtt_input/\"+extra_dirs+sample+\"_edge_\"+mode+\"_\"+str(mode_num)+\".csv\",G_df.values[:,:2],fmt='%s')\n",
    "\n",
    "# from itertools import product\n",
    "# li=['A','B','C','D','E','F','G','H','I']\n",
    "# combs = [''.join(comb) for comb in product(li, repeat=len(li))]\n",
    "# def multiassign(d, keys, values):\n",
    "#     for k, v in zip(keys, values):\n",
    "#         d[k] = v\n",
    "# combs=np.array(combs)[np.arange(len(adata.obs_names))].tolist()\n",
    "# cell={}\n",
    "# multiassign(cell, list(adata.obs_names), combs)\n",
    "# feat=pd.read_csv(dirs+\"gtt_input/\"+sample+\"_mat.csv\",header=0,index_col=0,sep=',')\n",
    "# feat.index=[cell[i] for i in feat.index]\n",
    "# feat.to_csv(dirs+\"gtt_input/\"+sample+\"_mat.csv\")\n",
    "# meta=pd.read_csv(dirs+\"gtt_input/\"+sample+\"_meta.csv\",header=0,index_col=0,sep=',')\n",
    "# meta.index=[cell[i] for i in meta.index]\n",
    "# meta.to_csv(dirs+\"gtt_input/\"+sample+\"_meta.csv\")\n",
    "# coord=pd.read_csv(dirs+\"gtt_input/\"+sample+\"_coord.csv\",header=0,index_col=0,sep=',')\n",
    "# coord.index=[cell[i] for i in coord.index]\n",
    "# coord.to_csv(dirs+\"gtt_input/\"+sample+\"_coord.csv\")"
   ]
  },
  {
   "cell_type": "code",
   "execution_count": 22,
   "id": "fd1311fa",
   "metadata": {
    "collapsed": true
   },
   "outputs": [
    {
     "ename": "KeyboardInterrupt",
     "evalue": "",
     "output_type": "error",
     "traceback": [
      "\u001b[0;31m---------------------------------------------------------------------------\u001b[0m",
      "\u001b[0;31mKeyboardInterrupt\u001b[0m                         Traceback (most recent call last)",
      "\u001b[0;32m<ipython-input-22-192f96c633dc>\u001b[0m in \u001b[0;36m<module>\u001b[0;34m()\u001b[0m\n\u001b[1;32m      4\u001b[0m \u001b[0mdirs\u001b[0m\u001b[0;34m=\u001b[0m\u001b[0;34m\"/data02/tguo/space_batch_effect/mouse_OB/\"\u001b[0m\u001b[0;34m\u001b[0m\u001b[0;34m\u001b[0m\u001b[0m\n\u001b[1;32m      5\u001b[0m \u001b[0msample\u001b[0m\u001b[0;34m=\u001b[0m\u001b[0;34m\"scRNA\"\u001b[0m\u001b[0;34m\u001b[0m\u001b[0;34m\u001b[0m\u001b[0m\n\u001b[0;32m----> 6\u001b[0;31m \u001b[0mfeat\u001b[0m\u001b[0;34m=\u001b[0m\u001b[0mpd\u001b[0m\u001b[0;34m.\u001b[0m\u001b[0mread_csv\u001b[0m\u001b[0;34m(\u001b[0m\u001b[0mdirs\u001b[0m\u001b[0;34m+\u001b[0m\u001b[0;34m\"gtt_input/\"\u001b[0m\u001b[0;34m+\u001b[0m\u001b[0msample\u001b[0m\u001b[0;34m+\u001b[0m\u001b[0;34m\"_mat.csv\"\u001b[0m\u001b[0;34m,\u001b[0m\u001b[0mheader\u001b[0m\u001b[0;34m=\u001b[0m\u001b[0;36m0\u001b[0m\u001b[0;34m,\u001b[0m\u001b[0mindex_col\u001b[0m\u001b[0;34m=\u001b[0m\u001b[0;36m0\u001b[0m\u001b[0;34m,\u001b[0m\u001b[0msep\u001b[0m\u001b[0;34m=\u001b[0m\u001b[0;34m','\u001b[0m\u001b[0;34m)\u001b[0m\u001b[0;34m\u001b[0m\u001b[0;34m\u001b[0m\u001b[0m\n\u001b[0m\u001b[1;32m      7\u001b[0m \u001b[0mcoord\u001b[0m\u001b[0;34m=\u001b[0m\u001b[0mPCA\u001b[0m\u001b[0;34m(\u001b[0m\u001b[0mn_components\u001b[0m\u001b[0;34m=\u001b[0m\u001b[0mpca_dim\u001b[0m\u001b[0;34m)\u001b[0m\u001b[0;34m.\u001b[0m\u001b[0mfit_transform\u001b[0m\u001b[0;34m(\u001b[0m\u001b[0mfeat\u001b[0m\u001b[0;34m.\u001b[0m\u001b[0mvalues\u001b[0m\u001b[0;34m)\u001b[0m\u001b[0;34m\u001b[0m\u001b[0;34m\u001b[0m\u001b[0m\n\u001b[1;32m      8\u001b[0m \u001b[0;34m\u001b[0m\u001b[0m\n",
      "\u001b[0;32m/home/tguo/tguo2/miniconda3/envs/stnet/lib/python3.6/site-packages/pandas/io/parsers.py\u001b[0m in \u001b[0;36mread_csv\u001b[0;34m(filepath_or_buffer, sep, delimiter, header, names, index_col, usecols, squeeze, prefix, mangle_dupe_cols, dtype, engine, converters, true_values, false_values, skipinitialspace, skiprows, skipfooter, nrows, na_values, keep_default_na, na_filter, verbose, skip_blank_lines, parse_dates, infer_datetime_format, keep_date_col, date_parser, dayfirst, cache_dates, iterator, chunksize, compression, thousands, decimal, lineterminator, quotechar, quoting, doublequote, escapechar, comment, encoding, dialect, error_bad_lines, warn_bad_lines, delim_whitespace, low_memory, memory_map, float_precision)\u001b[0m\n\u001b[1;32m    686\u001b[0m     )\n\u001b[1;32m    687\u001b[0m \u001b[0;34m\u001b[0m\u001b[0m\n\u001b[0;32m--> 688\u001b[0;31m     \u001b[0;32mreturn\u001b[0m \u001b[0m_read\u001b[0m\u001b[0;34m(\u001b[0m\u001b[0mfilepath_or_buffer\u001b[0m\u001b[0;34m,\u001b[0m \u001b[0mkwds\u001b[0m\u001b[0;34m)\u001b[0m\u001b[0;34m\u001b[0m\u001b[0;34m\u001b[0m\u001b[0m\n\u001b[0m\u001b[1;32m    689\u001b[0m \u001b[0;34m\u001b[0m\u001b[0m\n\u001b[1;32m    690\u001b[0m \u001b[0;34m\u001b[0m\u001b[0m\n",
      "\u001b[0;32m/home/tguo/tguo2/miniconda3/envs/stnet/lib/python3.6/site-packages/pandas/io/parsers.py\u001b[0m in \u001b[0;36m_read\u001b[0;34m(filepath_or_buffer, kwds)\u001b[0m\n\u001b[1;32m    458\u001b[0m \u001b[0;34m\u001b[0m\u001b[0m\n\u001b[1;32m    459\u001b[0m     \u001b[0;32mtry\u001b[0m\u001b[0;34m:\u001b[0m\u001b[0;34m\u001b[0m\u001b[0;34m\u001b[0m\u001b[0m\n\u001b[0;32m--> 460\u001b[0;31m         \u001b[0mdata\u001b[0m \u001b[0;34m=\u001b[0m \u001b[0mparser\u001b[0m\u001b[0;34m.\u001b[0m\u001b[0mread\u001b[0m\u001b[0;34m(\u001b[0m\u001b[0mnrows\u001b[0m\u001b[0;34m)\u001b[0m\u001b[0;34m\u001b[0m\u001b[0;34m\u001b[0m\u001b[0m\n\u001b[0m\u001b[1;32m    461\u001b[0m     \u001b[0;32mfinally\u001b[0m\u001b[0;34m:\u001b[0m\u001b[0;34m\u001b[0m\u001b[0;34m\u001b[0m\u001b[0m\n\u001b[1;32m    462\u001b[0m         \u001b[0mparser\u001b[0m\u001b[0;34m.\u001b[0m\u001b[0mclose\u001b[0m\u001b[0;34m(\u001b[0m\u001b[0;34m)\u001b[0m\u001b[0;34m\u001b[0m\u001b[0;34m\u001b[0m\u001b[0m\n",
      "\u001b[0;32m/home/tguo/tguo2/miniconda3/envs/stnet/lib/python3.6/site-packages/pandas/io/parsers.py\u001b[0m in \u001b[0;36mread\u001b[0;34m(self, nrows)\u001b[0m\n\u001b[1;32m   1196\u001b[0m     \u001b[0;32mdef\u001b[0m \u001b[0mread\u001b[0m\u001b[0;34m(\u001b[0m\u001b[0mself\u001b[0m\u001b[0;34m,\u001b[0m \u001b[0mnrows\u001b[0m\u001b[0;34m=\u001b[0m\u001b[0;32mNone\u001b[0m\u001b[0;34m)\u001b[0m\u001b[0;34m:\u001b[0m\u001b[0;34m\u001b[0m\u001b[0;34m\u001b[0m\u001b[0m\n\u001b[1;32m   1197\u001b[0m         \u001b[0mnrows\u001b[0m \u001b[0;34m=\u001b[0m \u001b[0m_validate_integer\u001b[0m\u001b[0;34m(\u001b[0m\u001b[0;34m\"nrows\"\u001b[0m\u001b[0;34m,\u001b[0m \u001b[0mnrows\u001b[0m\u001b[0;34m)\u001b[0m\u001b[0;34m\u001b[0m\u001b[0;34m\u001b[0m\u001b[0m\n\u001b[0;32m-> 1198\u001b[0;31m         \u001b[0mret\u001b[0m \u001b[0;34m=\u001b[0m \u001b[0mself\u001b[0m\u001b[0;34m.\u001b[0m\u001b[0m_engine\u001b[0m\u001b[0;34m.\u001b[0m\u001b[0mread\u001b[0m\u001b[0;34m(\u001b[0m\u001b[0mnrows\u001b[0m\u001b[0;34m)\u001b[0m\u001b[0;34m\u001b[0m\u001b[0;34m\u001b[0m\u001b[0m\n\u001b[0m\u001b[1;32m   1199\u001b[0m \u001b[0;34m\u001b[0m\u001b[0m\n\u001b[1;32m   1200\u001b[0m         \u001b[0;31m# May alter columns / col_dict\u001b[0m\u001b[0;34m\u001b[0m\u001b[0;34m\u001b[0m\u001b[0;34m\u001b[0m\u001b[0m\n",
      "\u001b[0;32m/home/tguo/tguo2/miniconda3/envs/stnet/lib/python3.6/site-packages/pandas/io/parsers.py\u001b[0m in \u001b[0;36mread\u001b[0;34m(self, nrows)\u001b[0m\n\u001b[1;32m   2155\u001b[0m     \u001b[0;32mdef\u001b[0m \u001b[0mread\u001b[0m\u001b[0;34m(\u001b[0m\u001b[0mself\u001b[0m\u001b[0;34m,\u001b[0m \u001b[0mnrows\u001b[0m\u001b[0;34m=\u001b[0m\u001b[0;32mNone\u001b[0m\u001b[0;34m)\u001b[0m\u001b[0;34m:\u001b[0m\u001b[0;34m\u001b[0m\u001b[0;34m\u001b[0m\u001b[0m\n\u001b[1;32m   2156\u001b[0m         \u001b[0;32mtry\u001b[0m\u001b[0;34m:\u001b[0m\u001b[0;34m\u001b[0m\u001b[0;34m\u001b[0m\u001b[0m\n\u001b[0;32m-> 2157\u001b[0;31m             \u001b[0mdata\u001b[0m \u001b[0;34m=\u001b[0m \u001b[0mself\u001b[0m\u001b[0;34m.\u001b[0m\u001b[0m_reader\u001b[0m\u001b[0;34m.\u001b[0m\u001b[0mread\u001b[0m\u001b[0;34m(\u001b[0m\u001b[0mnrows\u001b[0m\u001b[0;34m)\u001b[0m\u001b[0;34m\u001b[0m\u001b[0;34m\u001b[0m\u001b[0m\n\u001b[0m\u001b[1;32m   2158\u001b[0m         \u001b[0;32mexcept\u001b[0m \u001b[0mStopIteration\u001b[0m\u001b[0;34m:\u001b[0m\u001b[0;34m\u001b[0m\u001b[0;34m\u001b[0m\u001b[0m\n\u001b[1;32m   2159\u001b[0m             \u001b[0;32mif\u001b[0m \u001b[0mself\u001b[0m\u001b[0;34m.\u001b[0m\u001b[0m_first_chunk\u001b[0m\u001b[0;34m:\u001b[0m\u001b[0;34m\u001b[0m\u001b[0;34m\u001b[0m\u001b[0m\n",
      "\u001b[0;32mpandas/_libs/parsers.pyx\u001b[0m in \u001b[0;36mpandas._libs.parsers.TextReader.read\u001b[0;34m()\u001b[0m\n",
      "\u001b[0;32mpandas/_libs/parsers.pyx\u001b[0m in \u001b[0;36mpandas._libs.parsers.TextReader._read_low_memory\u001b[0;34m()\u001b[0m\n",
      "\u001b[0;32mpandas/_libs/parsers.pyx\u001b[0m in \u001b[0;36mpandas._libs.parsers.TextReader._read_rows\u001b[0;34m()\u001b[0m\n",
      "\u001b[0;32mpandas/_libs/parsers.pyx\u001b[0m in \u001b[0;36mpandas._libs.parsers.TextReader._convert_column_data\u001b[0;34m()\u001b[0m\n",
      "\u001b[0;32mpandas/_libs/parsers.pyx\u001b[0m in \u001b[0;36mpandas._libs.parsers.TextReader._convert_tokens\u001b[0;34m()\u001b[0m\n",
      "\u001b[0;32mpandas/_libs/parsers.pyx\u001b[0m in \u001b[0;36mpandas._libs.parsers.TextReader._convert_with_dtype\u001b[0;34m()\u001b[0m\n",
      "\u001b[0;32m/home/tguo/tguo2/miniconda3/envs/stnet/lib/python3.6/site-packages/pandas/core/dtypes/common.py\u001b[0m in \u001b[0;36mis_categorical_dtype\u001b[0;34m(arr_or_dtype)\u001b[0m\n\u001b[1;32m    528\u001b[0m \u001b[0;34m\u001b[0m\u001b[0m\n\u001b[1;32m    529\u001b[0m \u001b[0;34m\u001b[0m\u001b[0m\n\u001b[0;32m--> 530\u001b[0;31m \u001b[0;32mdef\u001b[0m \u001b[0mis_categorical_dtype\u001b[0m\u001b[0;34m(\u001b[0m\u001b[0marr_or_dtype\u001b[0m\u001b[0;34m)\u001b[0m \u001b[0;34m->\u001b[0m \u001b[0mbool\u001b[0m\u001b[0;34m:\u001b[0m\u001b[0;34m\u001b[0m\u001b[0;34m\u001b[0m\u001b[0m\n\u001b[0m\u001b[1;32m    531\u001b[0m     \"\"\"\n\u001b[1;32m    532\u001b[0m     \u001b[0mCheck\u001b[0m \u001b[0mwhether\u001b[0m \u001b[0man\u001b[0m \u001b[0marray\u001b[0m\u001b[0;34m-\u001b[0m\u001b[0mlike\u001b[0m \u001b[0;32mor\u001b[0m \u001b[0mdtype\u001b[0m \u001b[0;32mis\u001b[0m \u001b[0mof\u001b[0m \u001b[0mthe\u001b[0m \u001b[0mCategorical\u001b[0m \u001b[0mdtype\u001b[0m\u001b[0;34m.\u001b[0m\u001b[0;34m\u001b[0m\u001b[0;34m\u001b[0m\u001b[0m\n",
      "\u001b[0;31mKeyboardInterrupt\u001b[0m: "
     ]
    }
   ],
   "source": [
    "########expression########\n",
    "knn=10\n",
    "pca_dim=30\n",
    "dirs=\"/data02/tguo/space_batch_effect/mouse_OB/\"\n",
    "sample=\"scRNA\"\n",
    "feat=pd.read_csv(dirs+\"gtt_input/\"+sample+\"_mat.csv\",header=0,index_col=0,sep=',')\n",
    "coord=PCA(n_components=pca_dim).fit_transform(feat.values)\n",
    "\n",
    "adata = sc.AnnData(feat)\n",
    "adata.var_names_make_unique()\n",
    "adata.X=sp.csr_matrix(adata.X)\n",
    "adata.obsm[\"spatial\"] = coord\n",
    "Cal_Spatial_Net(adata, rad_cutoff=None, k_cutoff=knn, model='KNN', verbose=True)\n",
    "if 'highly_variable' in adata.var.columns:\n",
    "    adata_Vars =  adata[:, adata.var['highly_variable']]\n",
    "else:\n",
    "    adata_Vars = adata\n",
    "features = pd.DataFrame(adata_Vars.X.toarray()[:, ], index=adata_Vars.obs.index, columns=adata_Vars.var.index)\n",
    "cells = np.array(features.index)\n",
    "cells_id_tran = dict(zip(cells, range(cells.shape[0])))\n",
    "if 'Spatial_Net' not in adata.uns.keys():\n",
    "    raise ValueError(\"Spatial_Net is not existed! Run Cal_Spatial_Net first!\")\n",
    "\n",
    "Spatial_Net = adata.uns['Spatial_Net']\n",
    "G_df = Spatial_Net.copy()\n",
    "\n",
    "\n",
    "# a=G_df.values[:,:2]\n",
    "# pd.DataFrame(a).to_csv(dirs+\"gtt_input/\"+sample+\"_edge_KNN_\"+str(knn)+\".csv\")\n",
    "np.savetxt(dirs+\"gtt_input/\"+sample+\"_edge_KNN_\"+str(knn)+\"_expression.csv\",G_df.values[:,:2],fmt='%s')"
   ]
  },
  {
   "cell_type": "code",
   "execution_count": 4,
   "id": "5be6438f",
   "metadata": {},
   "outputs": [
    {
     "name": "stdout",
     "output_type": "stream",
     "text": [
      "------Calculating spatial graph...\n",
      "The graph contains 152872 edges, 19109 cells.\n",
      "8.0000 neighbors per cell on average.\n"
     ]
    }
   ],
   "source": [
    "##########higher resolution of stereo-seq##########\n",
    "knn=8\n",
    "rad=50\n",
    "mode='KNN'\n",
    "dirs=\"/data02/tguo/space_batch_effect/mouse_OB/\"\n",
    "sample=\"Stereo-v2\"\n",
    "feat=pd.read_csv(dirs+\"gtt_input/\"+sample+\"_mat.csv\",header=0,index_col=0,sep=',')\n",
    "coord=pd.read_csv(dirs+\"gtt_input/\"+sample+\"_coord.csv\",header=0,index_col=0,sep=',')\n",
    "coord.columns=['x','y']\n",
    "adata = sc.AnnData(feat)\n",
    "adata.var_names_make_unique()\n",
    "adata.X=sp.csr_matrix(adata.X)\n",
    "adata.obsm[\"spatial\"] = coord.loc[:,['x','y']].to_numpy()\n",
    "Cal_Spatial_Net(adata, rad_cutoff=rad, k_cutoff=knn, model=mode, verbose=True)\n",
    "if 'highly_variable' in adata.var.columns:\n",
    "    adata_Vars =  adata[:, adata.var['highly_variable']]\n",
    "else:\n",
    "    adata_Vars = adata\n",
    "features = pd.DataFrame(adata_Vars.X.toarray()[:, ], index=adata_Vars.obs.index, columns=adata_Vars.var.index)\n",
    "cells = np.array(features.index)\n",
    "cells_id_tran = dict(zip(cells, range(cells.shape[0])))\n",
    "if 'Spatial_Net' not in adata.uns.keys():\n",
    "    raise ValueError(\"Spatial_Net is not existed! Run Cal_Spatial_Net first!\")\n",
    "\n",
    "Spatial_Net = adata.uns['Spatial_Net']\n",
    "G_df = Spatial_Net.copy()\n",
    "\n",
    "\n",
    "a=G_df.values[:,:2]\n",
    "np.savetxt(dirs+\"gtt_input/\"+sample+\"_edge_\"+mode+\"_\"+str(knn)+\".csv\",G_df.values[:,:2],fmt='%s')\n"
   ]
  },
  {
   "cell_type": "markdown",
   "id": "b5edf263",
   "metadata": {},
   "source": [
    "MOSTA"
   ]
  },
  {
   "cell_type": "code",
   "execution_count": 10,
   "id": "5a10dbfc",
   "metadata": {},
   "outputs": [
    {
     "name": "stdout",
     "output_type": "stream",
     "text": [
      "------Calculating spatial graph...\n",
      "The graph contains 410920 edges, 51365 cells.\n",
      "8.0000 neighbors per cell on average.\n"
     ]
    }
   ],
   "source": [
    "knn=10\n",
    "rad=10\n",
    "dirs=\"/data02/tguo/space_batch_effect/MOSTA/\"\n",
    "sample=\"E9.5\"\n",
    "feat=pd.read_csv(dirs+\"gtt_input/\"+sample+\"_mat.csv\",header=0,index_col=0,sep=',')\n",
    "coord=pd.read_csv(dirs+\"gtt_input/\"+sample+\"_coord.csv\",header=0,index_col=0,sep=',')\n",
    "coord.columns=['x','y']\n",
    "adata = sc.AnnData(feat)\n",
    "adata.var_names_make_unique()\n",
    "adata.X=sp.csr_matrix(adata.X)\n",
    "adata.obsm[\"spatial\"] = coord.loc[:,['x','y']].to_numpy()\n",
    "Cal_Spatial_Net(adata, rad_cutoff=rad, k_cutoff=knn, model='KNN', verbose=True)\n",
    "if 'highly_variable' in adata.var.columns:\n",
    "    adata_Vars =  adata[:, adata.var['highly_variable']]\n",
    "else:\n",
    "    adata_Vars = adata\n",
    "features = pd.DataFrame(adata_Vars.X.toarray()[:, ], index=adata_Vars.obs.index, columns=adata_Vars.var.index)\n",
    "cells = np.array(features.index)\n",
    "cells_id_tran = dict(zip(cells, range(cells.shape[0])))\n",
    "if 'Spatial_Net' not in adata.uns.keys():\n",
    "    raise ValueError(\"Spatial_Net is not existed! Run Cal_Spatial_Net first!\")\n",
    "\n",
    "Spatial_Net = adata.uns['Spatial_Net']\n",
    "G_df = Spatial_Net.copy()\n",
    "np.savetxt(dirs+\"gtt_input/\"+sample+\"_edge_KNN_\"+str(knn)+\".csv\",G_df.values[:,:2],fmt='%s')"
   ]
  },
  {
   "cell_type": "markdown",
   "id": "0c59793e",
   "metadata": {},
   "source": [
    "Colon"
   ]
  },
  {
   "cell_type": "code",
   "execution_count": 8,
   "id": "bb4fc586",
   "metadata": {
    "collapsed": true
   },
   "outputs": [
    {
     "name": "stderr",
     "output_type": "stream",
     "text": [
      "/home/tguo/tguo2/miniconda3/envs/stnet/lib/python3.6/site-packages/anndata/utils.py:141: UserWarning: X converted to numpy array with dtype float64\n",
      "  warnings.warn(f\"{name} converted to numpy array with dtype {arr.dtype}\")\n"
     ]
    },
    {
     "name": "stdout",
     "output_type": "stream",
     "text": [
      "------Calculating spatial graph...\n",
      "The graph contains 26052 edges, 4342 cells.\n",
      "6.0000 neighbors per cell on average.\n"
     ]
    }
   ],
   "source": [
    "knn=6\n",
    "rad=10\n",
    "dirs=\"/data02/tguo/space_batch_effect/Colon/\"\n",
    "sample=\"2113\"\n",
    "feat=pd.read_csv(dirs+\"gtt_input/\"+sample+\"_mat.csv\",header=0,index_col=0,sep=',')\n",
    "coord=pd.read_csv(dirs+\"gtt_input/\"+sample+\"_coord.csv\",header=0,index_col=0,sep=',')\n",
    "coord.columns=['x','y']\n",
    "adata = sc.AnnData(feat)\n",
    "adata.var_names_make_unique()\n",
    "adata.X=sp.csr_matrix(adata.X)\n",
    "adata.obsm[\"spatial\"] = coord.loc[:,['x','y']].to_numpy()\n",
    "Cal_Spatial_Net(adata, rad_cutoff=rad, k_cutoff=knn, model='KNN', verbose=True)\n",
    "if 'highly_variable' in adata.var.columns:\n",
    "    adata_Vars =  adata[:, adata.var['highly_variable']]\n",
    "else:\n",
    "    adata_Vars = adata\n",
    "features = pd.DataFrame(adata_Vars.X.toarray()[:, ], index=adata_Vars.obs.index, columns=adata_Vars.var.index)\n",
    "cells = np.array(features.index)\n",
    "cells_id_tran = dict(zip(cells, range(cells.shape[0])))\n",
    "if 'Spatial_Net' not in adata.uns.keys():\n",
    "    raise ValueError(\"Spatial_Net is not existed! Run Cal_Spatial_Net first!\")\n",
    "\n",
    "Spatial_Net = adata.uns['Spatial_Net']\n",
    "G_df = Spatial_Net.copy()\n",
    "np.savetxt(dirs+\"gtt_input/\"+sample+\"_edge_KNN_\"+str(knn)+\".csv\",G_df.values[:,:2],fmt='%s')"
   ]
  },
  {
   "cell_type": "markdown",
   "id": "506e562b",
   "metadata": {},
   "source": [
    "10x hippo"
   ]
  },
  {
   "cell_type": "code",
   "execution_count": 6,
   "id": "64eaa5ae",
   "metadata": {},
   "outputs": [
    {
     "name": "stderr",
     "output_type": "stream",
     "text": [
      "/home/tguo/tguo2/miniconda3/envs/stnet/lib/python3.6/site-packages/anndata/utils.py:141: UserWarning: X converted to numpy array with dtype float64\n",
      "  warnings.warn(f\"{name} converted to numpy array with dtype {arr.dtype}\")\n"
     ]
    },
    {
     "name": "stdout",
     "output_type": "stream",
     "text": [
      "------Calculating spatial graph...\n",
      "The graph contains 16212 edges, 2702 cells.\n",
      "6.0000 neighbors per cell on average.\n"
     ]
    }
   ],
   "source": [
    "knn=6\n",
    "dirs=\"/data02/tguo/space_batch_effect/Hippo/\"\n",
    "sample=\"10X_Normal\"\n",
    "feat=pd.read_csv(dirs+\"gtt_input/\"+sample+\"_mat.csv\",header=0,index_col=0,sep=',')\n",
    "coord=pd.read_csv(dirs+\"gtt_input/\"+sample+\"_coord.csv\",header=0,index_col=0,sep=',')\n",
    "coord.columns=['x','y']\n",
    "adata = sc.AnnData(feat)\n",
    "adata.var_names_make_unique()\n",
    "adata.X=sp.csr_matrix(adata.X)\n",
    "adata.obsm[\"spatial\"] = coord.loc[:,['x','y']].to_numpy()\n",
    "Cal_Spatial_Net(adata, rad_cutoff=None, k_cutoff=knn, model='KNN', verbose=True)\n",
    "if 'highly_variable' in adata.var.columns:\n",
    "    adata_Vars =  adata[:, adata.var['highly_variable']]\n",
    "else:\n",
    "    adata_Vars = adata\n",
    "features = pd.DataFrame(adata_Vars.X.toarray()[:, ], index=adata_Vars.obs.index, columns=adata_Vars.var.index)\n",
    "cells = np.array(features.index)\n",
    "cells_id_tran = dict(zip(cells, range(cells.shape[0])))\n",
    "if 'Spatial_Net' not in adata.uns.keys():\n",
    "    raise ValueError(\"Spatial_Net is not existed! Run Cal_Spatial_Net first!\")\n",
    "\n",
    "Spatial_Net = adata.uns['Spatial_Net']\n",
    "G_df = Spatial_Net.copy()\n",
    "np.savetxt(dirs+\"gtt_input/\"+sample+\"_edge_KNN_\"+str(knn)+\".csv\",G_df.values[:,:2],fmt='%s')"
   ]
  },
  {
   "cell_type": "markdown",
   "id": "82b1ab6b",
   "metadata": {},
   "source": [
    "slide-seq v1 hippo"
   ]
  },
  {
   "cell_type": "code",
   "execution_count": 26,
   "id": "3f6a930d",
   "metadata": {
    "collapsed": true
   },
   "outputs": [
    {
     "name": "stdout",
     "output_type": "stream",
     "text": [
      "------Calculating spatial graph...\n",
      "The graph contains 22974 edges, 1692 cells.\n",
      "13.5780 neighbors per cell on average.\n",
      "------Calculating spatial graph...\n",
      "The graph contains 20546 edges, 1476 cells.\n",
      "13.9201 neighbors per cell on average.\n",
      "------Calculating spatial graph...\n",
      "The graph contains 11794 edges, 1138 cells.\n",
      "10.3638 neighbors per cell on average.\n",
      "------Calculating spatial graph...\n",
      "The graph contains 18278 edges, 1363 cells.\n",
      "13.4101 neighbors per cell on average.\n",
      "------Calculating spatial graph...\n",
      "The graph contains 22344 edges, 1788 cells.\n",
      "12.4966 neighbors per cell on average.\n",
      "------Calculating spatial graph...\n",
      "The graph contains 24544 edges, 1835 cells.\n",
      "13.3755 neighbors per cell on average.\n",
      "------Calculating spatial graph...\n",
      "The graph contains 18922 edges, 1616 cells.\n",
      "11.7092 neighbors per cell on average.\n"
     ]
    }
   ],
   "source": [
    "knn=6\n",
    "rad=50\n",
    "dirs=\"/data02/tguo/space_batch_effect/slide-seq/\"\n",
    "sample_name=['Puck_180531_13', 'Puck_180531_16', 'Puck_180531_17','Puck_180531_18', 'Puck_180531_19', 'Puck_180531_22','Puck_180531_23']\n",
    "for i in np.arange(len(sample_name)):\n",
    "    sample1=sample_name[i]\n",
    "    features=pd.read_csv(dirs+\"gtt_input/\"+str(sample1)+\"_scanpy_mat.csv\",header=0,index_col=0,sep=',')\n",
    "    meta=pd.read_csv(dirs+\"gtt_input/\"+str(sample1)+\"_STAGATE_meta.csv\",header=0,index_col=0,sep=',')\n",
    "    coord=pd.read_csv(dirs+\"gtt_input/\"+str(sample1)+\"_coord.csv\",header=0,index_col=0,sep=',')\n",
    "    # meta=meta.iloc[:meta.shape[0]-1,:]\n",
    "    adata = sc.AnnData(features)\n",
    "    adata.var_names_make_unique()\n",
    "    adata.X=sp.csr_matrix(adata.X)\n",
    "    adata.obsm[\"spatial\"] = coord.loc[:,['x','y']].to_numpy()\n",
    "    Cal_Spatial_Net(adata, rad_cutoff=rad, k_cutoff=knn, model='Radius', verbose=True)\n",
    "    if 'highly_variable' in adata.var.columns:\n",
    "        adata_Vars =  adata[:, adata.var['highly_variable']]\n",
    "    else:\n",
    "        adata_Vars = adata\n",
    "    features = pd.DataFrame(adata_Vars.X.toarray()[:, ], index=adata_Vars.obs.index, columns=adata_Vars.var.index)\n",
    "    cells = np.array(features.index)\n",
    "    cells_id_tran = dict(zip(cells, range(cells.shape[0])))\n",
    "    if 'Spatial_Net' not in adata.uns.keys():\n",
    "        raise ValueError(\"Spatial_Net is not existed! Run Cal_Spatial_Net first!\")\n",
    "\n",
    "    Spatial_Net = adata.uns['Spatial_Net']\n",
    "    G_df = Spatial_Net.copy()\n",
    "    np.savetxt(dirs+\"gtt_input/\"+str(sample1)+\"_edge_Radius_\"+str(rad)+\".csv\",G_df.values[:,:2],fmt='%s')\n",
    "\n",
    "    # G_df['Cell1'] = G_df['Cell1'].map(cells_id_tran)\n",
    "    # G_df['Cell2'] = G_df['Cell2'].map(cells_id_tran)\n",
    "    # adj = sp.coo_matrix((np.ones(G_df.shape[0]), (G_df['Cell1'], G_df['Cell2'])), shape=(adata.n_obs, adata.n_obs))\n",
    "    # adj+=adj.T.multiply(adj.T>adj)-adj.multiply(adj.T>adj)\n",
    "    # features=torch.FloatTensor(features.values)"
   ]
  },
  {
   "cell_type": "code",
   "execution_count": null,
   "id": "78644924",
   "metadata": {},
   "outputs": [],
   "source": []
  }
 ],
 "metadata": {
  "kernelspec": {
   "display_name": "torch",
   "language": "python",
   "name": "torch"
  },
  "language_info": {
   "codemirror_mode": {
    "name": "ipython",
    "version": 3
   },
   "file_extension": ".py",
   "mimetype": "text/x-python",
   "name": "python",
   "nbconvert_exporter": "python",
   "pygments_lexer": "ipython3",
   "version": "3.6.13"
  }
 },
 "nbformat": 4,
 "nbformat_minor": 5
}
