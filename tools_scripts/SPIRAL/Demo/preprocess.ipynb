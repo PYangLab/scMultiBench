{
 "cells": [
  {
   "cell_type": "code",
   "execution_count": 19,
   "id": "73bf4d24",
   "metadata": {},
   "outputs": [],
   "source": [
    "import pandas as pd\n",
    "import numpy as np\n",
    "import scanpy as sc\n",
    "import matplotlib.pyplot as plt\n",
    "import os\n",
    "import anndata\n",
    "import scipy as sp\n",
    "import umap.umap_ as umap\n",
    "import matplotlib.pyplot as plt\n",
    "from sklearn.decomposition import PCA"
   ]
  },
  {
   "cell_type": "markdown",
   "id": "43000a8e",
   "metadata": {},
   "source": [
    "MOSTA"
   ]
  },
  {
   "cell_type": "code",
   "execution_count": null,
   "id": "b099fcf0",
   "metadata": {},
   "outputs": [],
   "source": [
    "sample=['E9.5_E1S1', 'E10.5_E2S1', 'E11.5_E1S1', 'E12.5_E1S1']\n",
    "Batch_list = []\n",
    "for i in np.arange(len(sample)):\n",
    "    adata=sc.read_h5ad(\"/data02/tguo/space_batch_effect_data/MOSTA/origin/\"+sample[i]+\".MOSTA.h5ad\")\n",
    "    adata.X = adata.layers['count']\n",
    "    adata.obs_names = [x + '_' + sample[i] for x in adata.obs_names]\n",
    "    sc.pp.normalize_total(adata, target_sum=1e4)\n",
    "    sc.pp.log1p(adata)\n",
    "    sc.pp.highly_variable_genes(adata, flavor=\"seurat_v3\", n_top_genes=5000)\n",
    "    adata = adata[:, adata.var['highly_variable']]\n",
    "    Batch_list.append(adata)\n",
    "    \n",
    "adata_concat = anndata.concat(Batch_list, label=\"slice_name\", keys=sample)\n",
    "vf=np.array(adata_concat.var.index)\n",
    "for i in np.arange(len(sample)):\n",
    "    adata1=adata_concat[adata_concat.obs['slice_name']==sample[i],:]\n",
    "    cells=adata1.obs_names\n",
    "    mat=pd.DataFrame(adata1.X.todense(),index=cells,columns=vf)\n",
    "    coord=pd.DataFrame(adata1.obsm['spatial'],index=cells,columns=['x','y'])\n",
    "    meta=adata1.obs[['annotation','slice_name']]\n",
    "    meta.columns=['celltype','batch']\n",
    "    meta.index=cells\n",
    "    mat.to_csv(\"/data02/tguo/space_batch_effect_data/MOSTA/gtt_input/\"+sample[i]+\"_mat.csv\")\n",
    "    meta.to_csv(\"/data02/tguo/space_batch_effect_data/MOSTA/gtt_input/\"+sample[i]+\"_meta.csv\")\n",
    "    coord.to_csv(\"/data02/tguo/space_batch_effect_data/MOSTA/gtt_input/\"+sample[i]+\"_coord.csv\")"
   ]
  },
  {
   "cell_type": "markdown",
   "id": "adcdbe3d",
   "metadata": {},
   "source": [
    "DLPFC"
   ]
  },
  {
   "cell_type": "markdown",
   "id": "648ad1c8",
   "metadata": {},
   "source": [
    "Donor1/Donor2/Donor3: union of 3000 HVG from each samples;\n"
   ]
  },
  {
   "cell_type": "markdown",
   "id": "251a8ea9",
   "metadata": {},
   "source": [
    "All Donor: union of 1000 HVG from each samples;"
   ]
  },
  {
   "cell_type": "code",
   "execution_count": 26,
   "id": "061fefe6",
   "metadata": {
    "collapsed": true
   },
   "outputs": [
    {
     "name": "stderr",
     "output_type": "stream",
     "text": [
      "Variable names are not unique. To make them unique, call `.var_names_make_unique`.\n",
      "Variable names are not unique. To make them unique, call `.var_names_make_unique`.\n",
      "Trying to set attribute `.obs` of view, copying.\n",
      "Variable names are not unique. To make them unique, call `.var_names_make_unique`.\n",
      "Variable names are not unique. To make them unique, call `.var_names_make_unique`.\n",
      "Trying to set attribute `.obs` of view, copying.\n",
      "Variable names are not unique. To make them unique, call `.var_names_make_unique`.\n",
      "Variable names are not unique. To make them unique, call `.var_names_make_unique`.\n",
      "Trying to set attribute `.obs` of view, copying.\n",
      "Variable names are not unique. To make them unique, call `.var_names_make_unique`.\n",
      "Variable names are not unique. To make them unique, call `.var_names_make_unique`.\n",
      "Trying to set attribute `.obs` of view, copying.\n",
      "Variable names are not unique. To make them unique, call `.var_names_make_unique`.\n",
      "Variable names are not unique. To make them unique, call `.var_names_make_unique`.\n",
      "Trying to set attribute `.obs` of view, copying.\n",
      "Variable names are not unique. To make them unique, call `.var_names_make_unique`.\n",
      "Variable names are not unique. To make them unique, call `.var_names_make_unique`.\n",
      "Trying to set attribute `.obs` of view, copying.\n",
      "Variable names are not unique. To make them unique, call `.var_names_make_unique`.\n",
      "Variable names are not unique. To make them unique, call `.var_names_make_unique`.\n",
      "Trying to set attribute `.obs` of view, copying.\n",
      "Variable names are not unique. To make them unique, call `.var_names_make_unique`.\n",
      "Variable names are not unique. To make them unique, call `.var_names_make_unique`.\n",
      "Trying to set attribute `.obs` of view, copying.\n",
      "Variable names are not unique. To make them unique, call `.var_names_make_unique`.\n",
      "Variable names are not unique. To make them unique, call `.var_names_make_unique`.\n",
      "Trying to set attribute `.obs` of view, copying.\n",
      "Variable names are not unique. To make them unique, call `.var_names_make_unique`.\n",
      "Variable names are not unique. To make them unique, call `.var_names_make_unique`.\n",
      "Trying to set attribute `.obs` of view, copying.\n",
      "Variable names are not unique. To make them unique, call `.var_names_make_unique`.\n",
      "Variable names are not unique. To make them unique, call `.var_names_make_unique`.\n",
      "Trying to set attribute `.obs` of view, copying.\n",
      "Variable names are not unique. To make them unique, call `.var_names_make_unique`.\n",
      "Variable names are not unique. To make them unique, call `.var_names_make_unique`.\n",
      "Trying to set attribute `.obs` of view, copying.\n"
     ]
    }
   ],
   "source": [
    "dirs=\"/data02/tguo/space_batch_effect/human_DLPFC_10x/\"\n",
    "sample_name=[151507,151508,151509,151510,151669,151670,151671,151672,151673,151674,151675,151676]\n",
    "IDX=np.arange(0,12)\n",
    "VF=[]\n",
    "MAT=[]\n",
    "flags=str(sample_name[IDX[0]])\n",
    "for i in np.arange(1,len(IDX)):\n",
    "    flags=flags+'-'+str(sample_name[IDX[i]])\n",
    "flags=flags+\"_\"\n",
    "for k in np.arange(len(IDX)):\n",
    "    adata = sc.read_visium(path=dirs+\"scanpy_file/\"+str(sample_name[IDX[k]])+\"/\",\n",
    "                       count_file=\"filtered_feature_bc_matrix.h5\")\n",
    "    adata.var_names_make_unique()\n",
    "    Ann_df=pd.read_csv(dirs+\"input/\"+str(sample_name[IDX[k]])+\"_label.txt\", sep=',', header=0, index_col=0)\n",
    "    Ann_df.columns=['Ground Truth','Sample']\n",
    "    Ann_df.index=[i.split('-')[1]+'-'+i.split('-')[2] for i in Ann_df.index]\n",
    "    adata=adata[Ann_df.index,:]\n",
    "    adata.obs['Ground Truth']=Ann_df.loc[:,'Ground Truth']\n",
    "    sc.pp.highly_variable_genes(adata, flavor=\"seurat_v3\", n_top_genes=1000)\n",
    "    sc.pp.normalize_total(adata, target_sum=1e4)\n",
    "    sc.pp.log1p(adata)\n",
    "    adata.obs['batch']=str(sample_name[IDX[k]])\n",
    "    cells=[str(sample_name[IDX[k]])+'-'+i for i in adata.obs_names]\n",
    "    mat1=pd.DataFrame(adata.X.toarray(),columns=adata.var_names,index=cells)\n",
    "    coord1=pd.DataFrame(adata.obsm['spatial'],columns=['x','y'],index=cells)\n",
    "    meta1=adata.obs[['Ground Truth', 'batch']]\n",
    "    meta1.columns=['celltype','batch']\n",
    "    meta1.index=cells\n",
    "    meta1.to_csv(dirs+\"gtt_input_scanpy/\"+flags+str(sample_name[IDX[k]])+\"_label-1.txt\")\n",
    "    coord1.to_csv(dirs+\"gtt_input_scanpy/\"+flags+str(sample_name[IDX[k]])+\"_positions-1.txt\")\n",
    "    MAT.append(mat1)\n",
    "    VF=np.union1d(VF,adata.var_names[adata.var['highly_variable']])"
   ]
  },
  {
   "cell_type": "code",
   "execution_count": 28,
   "id": "fd8774bd",
   "metadata": {},
   "outputs": [],
   "source": [
    "for i in np.arange(len(IDX)):\n",
    "    mat=MAT[i]\n",
    "    mat=mat.loc[:,VF]\n",
    "    mat.to_csv(dirs+\"gtt_input_scanpy/\"+flags+str(sample_name[IDX[i]])+\"_features-1.txt\")"
   ]
  },
  {
   "cell_type": "code",
   "execution_count": null,
   "id": "00bdbe48",
   "metadata": {},
   "outputs": [],
   "source": []
  }
 ],
 "metadata": {
  "kernelspec": {
   "display_name": "Python36",
   "language": "python",
   "name": "python36"
  },
  "language_info": {
   "codemirror_mode": {
    "name": "ipython",
    "version": 3
   },
   "file_extension": ".py",
   "mimetype": "text/x-python",
   "name": "python",
   "nbconvert_exporter": "python",
   "pygments_lexer": "ipython3",
   "version": "3.6.15"
  }
 },
 "nbformat": 4,
 "nbformat_minor": 5
}
