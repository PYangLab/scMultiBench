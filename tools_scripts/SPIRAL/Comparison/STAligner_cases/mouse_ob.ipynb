{
 "cells": [
  {
   "cell_type": "code",
   "execution_count": 2,
   "id": "08af4908",
   "metadata": {},
   "outputs": [],
   "source": [
    "import warnings\n",
    "warnings.filterwarnings(\"ignore\")\n",
    "# import ST_utils\n",
    "# import train_STAligner\n",
    "import STAligner\n",
    "\n",
    "# the location of R (used for the mclust clustering)\n",
    "import os\n",
    "os.environ['R_HOME'] = \"/home/tguo/tguo2/miniconda3/envs/env_STAligner/lib/R\"\n",
    "os.environ['R_USER'] = \"/home/tguo/tguo2/miniconda3/envs/env_STAligner/lib/python3.7/site-packages/rpy2\"\n",
    "import rpy2.robjects as robjects\n",
    "import rpy2.robjects.numpy2ri\n",
    "\n",
    "\n",
    "import anndata as ad\n",
    "import scanpy as sc\n",
    "import pandas as pd\n",
    "import numpy as np\n",
    "import scipy.sparse as sp\n",
    "import scipy.linalg\n",
    "from scipy import sparse\n",
    "\n",
    "import torch\n",
    "used_device = torch.device('cuda:0' if torch.cuda.is_available() else 'cpu')"
   ]
  },
  {
   "cell_type": "code",
   "execution_count": null,
   "id": "df00f3a2",
   "metadata": {},
   "outputs": [
    {
     "name": "stdout",
     "output_type": "stream",
     "text": [
      "['Stereo_bin34', 'SlideV2']\n",
      "Stereo_bin34\n"
     ]
    }
   ],
   "source": [
    "dirs=\"/data02/tguo/space_batch_effect/mouse_OB/\"\n",
    "Batch_list = []\n",
    "adj_list = []\n",
    "section_ids = ['Stereo_bin34','SlideV2']\n",
    "extra_dirs=\"Stereo-bin34-filter/\"\n",
    "print(section_ids)\n",
    "k=0\n",
    "rad=[1.5,50]\n",
    "for section_id in section_ids:\n",
    "    print(section_id)\n",
    "    count=pd.read_csv(dirs+\"gtt_input/\"+section_id+\"_mat_allgene.csv\",sep=',',header=0,index_col=0)\n",
    "    meta = pd.DataFrame(pd.read_csv(dirs+\"gtt_input/\"+extra_dirs+section_id+\"_meta.csv\", sep=',', header=0, index_col=0).loc[:,'batch'])\n",
    "    coord=pd.read_csv(dirs+\"gtt_input/\"+extra_dirs+section_id+\"_coord.csv\",header=0,index_col=0,sep=',')\n",
    "    coord.columns=['x','y']\n",
    "    if section_id=='SlideV2':\n",
    "        used_barcodes=np.loadtxt(dirs+\"origin/used_barcodes.txt\",dtype=str)\n",
    "        used_barcodes=['SlideV2-'+x for x in used_barcodes]\n",
    "        cells=np.intersect1d(used_barcodes,count.index)\n",
    "        count=count.loc[cells,:]\n",
    "        meta=meta.loc[cells,:]\n",
    "        coord=coord.loc[cells,:]\n",
    "    count.index=meta.index\n",
    "    adata = sc.AnnData(count)\n",
    "    adata.X=sparse.csr_matrix(adata.X)\n",
    "    adata.var_names_make_unique(join=\"++\")\n",
    "#     adata.obs['celltype'] = meta.loc[:,'celltype']\n",
    "    adata.obs['batch'] = meta.loc[:,'batch']\n",
    "    adata.obsm[\"spatial\"] = coord.to_numpy()\n",
    "    \n",
    "    \n",
    "    # Constructing the spatial network\n",
    "    STAligner.Cal_Spatial_Net(adata, k_cutoff=8,model='Radius',rad_cutoff=rad[k]) # the spatial network are saved in adata.uns[‘adj’]\n",
    "    # STAligner.Stats_Spatial_Net(adata) # plot the number of spatial neighbors\n",
    "    \n",
    "    # Normalization\n",
    "    sc.pp.highly_variable_genes(adata, flavor=\"seurat_v3\", n_top_genes=5000)\n",
    "    sc.pp.normalize_total(adata, target_sum=1e4)\n",
    "    sc.pp.log1p(adata)\n",
    "    adata = adata[:, adata.var['highly_variable']]\n",
    "\n",
    "    adj_list.append(adata.uns['adj'])\n",
    "    Batch_list.append(adata)\n",
    "    k+=1"
   ]
  },
  {
   "cell_type": "code",
   "execution_count": 13,
   "id": "b7d48029",
   "metadata": {},
   "outputs": [
    {
     "name": "stdout",
     "output_type": "stream",
     "text": [
      "adata_concat.shape:  (26963, 765)\n"
     ]
    }
   ],
   "source": [
    "adata_concat = ad.concat(Batch_list, label=\"slice_name\", keys=section_ids)\n",
    "adata_concat.obs['celltype'] = adata_concat.obs['celltype']\n",
    "adata_concat.obs[\"batch_name\"] = adata_concat.obs[\"batch\"].astype('category')\n",
    "print('adata_concat.shape: ', adata_concat.shape)\n",
    "adj_concat = np.asarray(adj_list[0].todense())\n",
    "for batch_id in range(1,len(section_ids)):\n",
    "    adj_concat = scipy.linalg.block_diag(adj_concat, np.asarray(adj_list[batch_id].todense()))\n",
    "adata_concat.uns['edgeList'] = np.nonzero(adj_concat)"
   ]
  },
  {
   "cell_type": "code",
   "execution_count": 14,
   "id": "b704f527",
   "metadata": {},
   "outputs": [
    {
     "name": "stdout",
     "output_type": "stream",
     "text": [
      "STAligner(\n",
      "  (conv1): GATConv(765, 512, heads=1)\n",
      "  (conv2): GATConv(512, 30, heads=1)\n",
      "  (conv3): GATConv(30, 512, heads=1)\n",
      "  (conv4): GATConv(512, 765, heads=1)\n",
      ")\n",
      "Pretrain with STAGATE...\n"
     ]
    },
    {
     "name": "stderr",
     "output_type": "stream",
     "text": [
      "100%|██████████| 500/500 [00:57<00:00,  8.77it/s]\n"
     ]
    },
    {
     "name": "stdout",
     "output_type": "stream",
     "text": [
      "Train with STAligner...\n"
     ]
    },
    {
     "name": "stderr",
     "output_type": "stream",
     "text": [
      "\r",
      "  0%|          | 0/500 [00:00<?, ?it/s]"
     ]
    },
    {
     "name": "stdout",
     "output_type": "stream",
     "text": [
      "Update spot triplets at epoch 500\n"
     ]
    },
    {
     "name": "stderr",
     "output_type": "stream",
     "text": [
      " 20%|██        | 100/500 [00:16<00:45,  8.78it/s]"
     ]
    },
    {
     "name": "stdout",
     "output_type": "stream",
     "text": [
      "Update spot triplets at epoch 600\n"
     ]
    },
    {
     "name": "stderr",
     "output_type": "stream",
     "text": [
      " 40%|████      | 200/500 [00:36<00:34,  8.79it/s]"
     ]
    },
    {
     "name": "stdout",
     "output_type": "stream",
     "text": [
      "Update spot triplets at epoch 700\n"
     ]
    },
    {
     "name": "stderr",
     "output_type": "stream",
     "text": [
      " 60%|██████    | 300/500 [00:56<00:22,  8.75it/s]"
     ]
    },
    {
     "name": "stdout",
     "output_type": "stream",
     "text": [
      "Update spot triplets at epoch 800\n"
     ]
    },
    {
     "name": "stderr",
     "output_type": "stream",
     "text": [
      " 80%|████████  | 400/500 [01:18<00:11,  8.73it/s]"
     ]
    },
    {
     "name": "stdout",
     "output_type": "stream",
     "text": [
      "Update spot triplets at epoch 900\n"
     ]
    },
    {
     "name": "stderr",
     "output_type": "stream",
     "text": [
      "100%|██████████| 500/500 [01:39<00:00,  5.02it/s]\n"
     ]
    },
    {
     "name": "stdout",
     "output_type": "stream",
     "text": [
      "CPU times: user 3min 12s, sys: 31.3 s, total: 3min 43s\n",
      "Wall time: 2min 41s\n"
     ]
    }
   ],
   "source": [
    "%%time\n",
    "adata_concat = STAligner.train_STAligner(adata_concat, verbose=True, knn_neigh = 100, device=used_device)"
   ]
  },
  {
   "cell_type": "code",
   "execution_count": 15,
   "id": "0e77b3d6",
   "metadata": {},
   "outputs": [],
   "source": [
    "flags=''\n",
    "for i in np.arange(len(section_ids)):\n",
    "    flags=flags+'_'+section_ids[i]\n",
    "cellnames=adata_concat.obs_names\n",
    "embed=adata_concat.obsm['STAligner']\n",
    "embednames=['STAligner-'+str(i) for i in np.arange(embed.shape[1])]\n",
    "embed=pd.DataFrame(embed,index=cellnames,columns=embednames)\n",
    "embed.to_csv(dirs+\"methods/STAligner_mat\"+flags+\".txt\")"
   ]
  },
  {
   "cell_type": "code",
   "execution_count": null,
   "id": "ea557986",
   "metadata": {},
   "outputs": [],
   "source": [
    "sc.pp.neighbors(adata_concat, use_rep='STAligner', random_state=666)\n",
    "sc.tl.louvain(adata_concat, random_state=666, key_added=\"louvain\", resolution=0.5)\n",
    "\n",
    "sc.tl.umap(adata_concat, random_state=666)\n",
    "\n",
    "section_color = ['#ff7f0e', '#1f77b4']\n",
    "section_color_dict = dict(zip(section_ids, section_color))\n",
    "adata_concat.uns['batch_name_colors'] = [section_color_dict[x] for x in adata_concat.obs.batch_name.cat.categories]\n",
    "\n",
    "import matplotlib.pyplot as plt\n",
    "plt.rcParams['font.sans-serif'] = \"Arial\"\n",
    "plt.rcParams[\"figure.figsize\"] = (3, 3)\n",
    "plt.rcParams['font.size'] = 10\n",
    "\n",
    "sc.pl.umap(adata_concat, color=['batch_name', 'louvain'], ncols=2, wspace=0.5, show=True)"
   ]
  },
  {
   "cell_type": "code",
   "execution_count": null,
   "id": "c4e082c8",
   "metadata": {},
   "outputs": [],
   "source": []
  }
 ],
 "metadata": {
  "kernelspec": {
   "display_name": "STAligner",
   "language": "python",
   "name": "staligner"
  },
  "language_info": {
   "codemirror_mode": {
    "name": "ipython",
    "version": 3
   },
   "file_extension": ".py",
   "mimetype": "text/x-python",
   "name": "python",
   "nbconvert_exporter": "python",
   "pygments_lexer": "ipython3",
   "version": "3.7.12"
  }
 },
 "nbformat": 4,
 "nbformat_minor": 5
}
