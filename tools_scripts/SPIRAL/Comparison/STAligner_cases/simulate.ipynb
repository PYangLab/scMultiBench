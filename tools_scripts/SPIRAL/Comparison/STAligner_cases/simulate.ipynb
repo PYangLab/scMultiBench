{
 "cells": [
  {
   "cell_type": "code",
   "execution_count": 1,
   "id": "56eb1909",
   "metadata": {},
   "outputs": [],
   "source": [
    "import warnings\n",
    "warnings.filterwarnings(\"ignore\")\n",
    "# import ST_utils\n",
    "# import train_STAligner\n",
    "import STAligner\n",
    "\n",
    "# the location of R (used for the mclust clustering)\n",
    "import os\n",
    "os.environ['R_HOME'] = \"/home/tguo/tguo2/miniconda3/envs/env_STAligner/lib/R\"\n",
    "os.environ['R_USER'] = \"/home/tguo/tguo2/miniconda3/envs/env_STAligner/lib/python3.7/site-packages/rpy2\"\n",
    "import rpy2.robjects as robjects\n",
    "import rpy2.robjects.numpy2ri\n",
    "\n",
    "\n",
    "import anndata as ad\n",
    "import scanpy as sc\n",
    "import pandas as pd\n",
    "import numpy as np\n",
    "import scipy.sparse as sp\n",
    "import scipy.linalg\n",
    "from scipy import sparse\n",
    "\n",
    "import torch\n",
    "used_device = torch.device('cuda:0' if torch.cuda.is_available() else 'cpu')"
   ]
  },
  {
   "cell_type": "code",
   "execution_count": 2,
   "id": "64b85655",
   "metadata": {},
   "outputs": [
    {
     "name": "stdout",
     "output_type": "stream",
     "text": [
      "['1', '2']\n",
      "1\n",
      "------Calculating spatial graph...\n",
      "The graph contains 5000 edges, 500 cells.\n",
      "10.0000 neighbors per cell on average.\n",
      "2\n",
      "------Calculating spatial graph...\n",
      "The graph contains 5000 edges, 500 cells.\n",
      "10.0000 neighbors per cell on average.\n"
     ]
    }
   ],
   "source": [
    "dirs=\"/data02/tguo/space_batch_effect/simulate/\"\n",
    "batch_sim=\"_1\"\n",
    "types=\"\"\n",
    "section_ids = ['1','2']\n",
    "Batch_list = []\n",
    "adj_list = []\n",
    "print(section_ids)\n",
    "flags=batch_sim+types\n",
    "for section_id in section_ids:\n",
    "    print(section_id)\n",
    "    count=pd.read_csv(dirs+\"gtt_input/feat\"+section_id+flags+\".csv\",header=0,index_col=0,sep=',')\n",
    "    adata=sc.AnnData(count)\n",
    "    adata.X=sparse.csr_matrix(adata.X)\n",
    "    adata.var_names_make_unique(join=\"++\")\n",
    "\n",
    "    # read the annotation\n",
    "    meta = pd.read_csv(dirs+\"gtt_input/meta\"+section_id+flags+\".csv\", sep=',', header=0, index_col=0)\n",
    "    \n",
    "    adata.obs['celltype'] = meta.loc[adata.obs_names, 'celltype']\n",
    "    adata.obs['batch'] = meta.loc[adata.obs_names, 'batch']\n",
    "    \n",
    "    coord=pd.read_csv(dirs+\"gtt_input/coord\"+section_id+flags+\".csv\",header=0,index_col=0,sep=',')\n",
    "    coord=coord.loc[:,['x','y']]\n",
    "    adata.obsm[\"spatial\"] = coord.to_numpy()\n",
    "    # Constructing the spatial network\n",
    "    STAligner.Cal_Spatial_Net(adata, k_cutoff=10,model='KNN') # the spatial network are saved in adata.uns[‘adj’]\n",
    "    # STAligner.Stats_Spatial_Net(adata) # plot the number of spatial neighbors\n",
    "\n",
    "    adj_list.append(adata.uns['adj'])\n",
    "    Batch_list.append(adata)"
   ]
  },
  {
   "cell_type": "code",
   "execution_count": 3,
   "id": "547ae3e5",
   "metadata": {},
   "outputs": [
    {
     "name": "stdout",
     "output_type": "stream",
     "text": [
      "adata_concat.shape:  (1000, 500)\n"
     ]
    }
   ],
   "source": [
    "adata_concat = ad.concat(Batch_list, label=\"slice_name\", keys=section_ids)\n",
    "adata_concat.obs['celltype'] = adata_concat.obs['celltype']\n",
    "adata_concat.obs[\"batch_name\"] = adata_concat.obs[\"batch\"].astype('category')\n",
    "print('adata_concat.shape: ', adata_concat.shape)\n",
    "adj_concat = np.asarray(adj_list[0].todense())\n",
    "for batch_id in range(1,len(section_ids)):\n",
    "    adj_concat = scipy.linalg.block_diag(adj_concat, np.asarray(adj_list[batch_id].todense()))\n",
    "adata_concat.uns['edgeList'] = np.nonzero(adj_concat)"
   ]
  },
  {
   "cell_type": "code",
   "execution_count": 4,
   "id": "be6b18b8",
   "metadata": {
    "collapsed": true
   },
   "outputs": [
    {
     "name": "stdout",
     "output_type": "stream",
     "text": [
      "STAligner(\n",
      "  (conv1): GATConv(500, 512, heads=1)\n",
      "  (conv2): GATConv(512, 30, heads=1)\n",
      "  (conv3): GATConv(30, 512, heads=1)\n",
      "  (conv4): GATConv(512, 500, heads=1)\n",
      ")\n",
      "Pretrain with STAGATE...\n"
     ]
    },
    {
     "name": "stderr",
     "output_type": "stream",
     "text": [
      "100%|██████████| 500/500 [00:05<00:00, 93.74it/s] \n"
     ]
    },
    {
     "name": "stdout",
     "output_type": "stream",
     "text": [
      "Train with STAligner...\n"
     ]
    },
    {
     "name": "stderr",
     "output_type": "stream",
     "text": [
      "\r",
      "  0%|          | 0/500 [00:00<?, ?it/s]"
     ]
    },
    {
     "name": "stdout",
     "output_type": "stream",
     "text": [
      "Update spot triplets at epoch 500\n"
     ]
    },
    {
     "name": "stderr",
     "output_type": "stream",
     "text": [
      " 20%|█▉        | 98/500 [00:01<00:04, 89.77it/s]"
     ]
    },
    {
     "name": "stdout",
     "output_type": "stream",
     "text": [
      "Update spot triplets at epoch 600\n"
     ]
    },
    {
     "name": "stderr",
     "output_type": "stream",
     "text": [
      " 39%|███▉      | 195/500 [00:03<00:03, 92.15it/s]"
     ]
    },
    {
     "name": "stdout",
     "output_type": "stream",
     "text": [
      "Update spot triplets at epoch 700\n"
     ]
    },
    {
     "name": "stderr",
     "output_type": "stream",
     "text": [
      " 60%|██████    | 300/500 [00:04<00:02, 93.50it/s]"
     ]
    },
    {
     "name": "stdout",
     "output_type": "stream",
     "text": [
      "Update spot triplets at epoch 800\n"
     ]
    },
    {
     "name": "stderr",
     "output_type": "stream",
     "text": [
      " 79%|███████▉  | 397/500 [00:06<00:01, 93.71it/s]"
     ]
    },
    {
     "name": "stdout",
     "output_type": "stream",
     "text": [
      "Update spot triplets at epoch 900\n"
     ]
    },
    {
     "name": "stderr",
     "output_type": "stream",
     "text": [
      "100%|██████████| 500/500 [00:07<00:00, 63.95it/s]"
     ]
    },
    {
     "name": "stdout",
     "output_type": "stream",
     "text": [
      "CPU times: user 16.7 s, sys: 1.5 s, total: 18.2 s\n",
      "Wall time: 18.3 s\n"
     ]
    },
    {
     "name": "stderr",
     "output_type": "stream",
     "text": [
      "\n"
     ]
    }
   ],
   "source": [
    "%%time\n",
    "adata_concat = STAligner.train_STAligner(adata_concat, verbose=True, knn_neigh = 100, device=used_device)\n",
    "embed=adata_concat.obsm['STAligner']\n",
    "embed_names=['STAligner-'+str(i) for i in np.arange(embed.shape[1])]\n",
    "embed=pd.DataFrame(embed,index=adata_concat.obs_names,columns=embed_names)\n",
    "embed.to_csv(dirs+\"methods/STAligner_mat\"+flags+'.txt')"
   ]
  },
  {
   "cell_type": "code",
   "execution_count": null,
   "id": "6ce854a0",
   "metadata": {},
   "outputs": [],
   "source": [
    "celltype=adata_concat.obs['celltype'].values\n",
    "batch=adata_concat.obs['batch_name'].values\n",
    "ul=np.unique(celltype)\n",
    "ub=np.unique(batch)\n",
    "import umap.umap_ as umap\n",
    "import matplotlib.pyplot as plt\n",
    "umap_mat=umap.UMAP().fit_transform(adata_concat.obsm['STAligner'])\n",
    "# x=PCA(n_components=30).fit_transform(SPII.feat.values)\n",
    "# umap_mat=umap.UMAP().fit_transform(x)\n",
    "colour1=['lightcoral','red','tomato','chocolate','darkorange','gold','olive','yellow','yellowgreen','lawngreen','forestgreen','lime',\n",
    "       'cyan','deepskyblue','dodgerblue','royalblue','blue','blueviolet','purple','fuchsia','hotpink','pink','gray','black','teal']\n",
    "\n",
    "colour2=['r','g','black','cyan','blue','purple','yellow','grey']\n",
    "f, axs= plt.subplots(1,2,figsize=(20,10))\n",
    "size=10\n",
    "for i in range(len(ul)):\n",
    "    axs[0].scatter(umap_mat[np.where(celltype==ul[i])[0],0],umap_mat[np.where(celltype==ul[i])[0],1],c=colour1[i],s=size)\n",
    "\n",
    "axs[0].set_xlabel(\"umap1\",fontsize=30)\n",
    "axs[0].set_ylabel(\"umap2\",fontsize=30)\n",
    "axs[0].legend(ul,loc=\"best\",fontsize=20,markerscale=4,bbox_to_anchor=(-0.19,1))\n",
    "axs[0].tick_params(axis='both', which='major', labelsize=20)\n",
    "for i in range(len(ub)):\n",
    "    axs[1].scatter(umap_mat[np.where(batch==ub[i])[0],0],umap_mat[np.where(batch==ub[i])[0],1],c=colour2[i],s=size)\n",
    "axs[1].set_xlabel(\"umap1\",fontsize=30)\n",
    "axs[1].legend(ub,loc=\"best\",fontsize=20,markerscale=4,bbox_to_anchor=(1.4,1))\n",
    "axs[1].tick_params(axis='both', which='major', labelsize=20)"
   ]
  },
  {
   "cell_type": "code",
   "execution_count": null,
   "id": "5067a8f6",
   "metadata": {},
   "outputs": [],
   "source": []
  }
 ],
 "metadata": {
  "kernelspec": {
   "display_name": "STAligner",
   "language": "python",
   "name": "staligner"
  },
  "language_info": {
   "codemirror_mode": {
    "name": "ipython",
    "version": 3
   },
   "file_extension": ".py",
   "mimetype": "text/x-python",
   "name": "python",
   "nbconvert_exporter": "python",
   "pygments_lexer": "ipython3",
   "version": "3.7.12"
  }
 },
 "nbformat": 4,
 "nbformat_minor": 5
}
