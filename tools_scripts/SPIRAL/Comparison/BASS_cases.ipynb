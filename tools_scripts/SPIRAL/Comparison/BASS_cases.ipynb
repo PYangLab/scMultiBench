{
 "cells": [
  {
   "cell_type": "code",
   "execution_count": 1,
   "id": "505818e5",
   "metadata": {},
   "outputs": [
    {
     "name": "stderr",
     "output_type": "stream",
     "text": [
      "Loading required package: GIGrvg\n",
      "\n",
      "Registered S3 method overwritten by 'spatstat.geom':\n",
      "  method     from\n",
      "  print.boxx cli \n",
      "\n",
      "Attaching SeuratObject\n",
      "\n"
     ]
    }
   ],
   "source": [
    "library(BASS)\n",
    "library(Seurat)"
   ]
  },
  {
   "cell_type": "markdown",
   "id": "9678b218",
   "metadata": {},
   "source": [
    "DLPFC"
   ]
  },
  {
   "cell_type": "code",
   "execution_count": 46,
   "id": "0c9ad727",
   "metadata": {},
   "outputs": [],
   "source": [
    "dirs=\"/data02/tguo/space_batch_effect/human_DLPFC_10x/\"\n",
    "load(paste(dirs,\"BASS_data/spatialLIBD_p1.RData\",sep=\"\"))\n",
    "cntm1=cntm\n",
    "xym1=xym\n",
    "load(paste(dirs,\"BASS_data/spatialLIBD_p2.RData\",sep=\"\"))\n",
    "cntm1=c(cntm1,cntm)\n",
    "xym1=c(xym1,xym)\n",
    "load(paste(dirs,\"BASS_data/spatialLIBD_p3.RData\",sep=\"\"))\n",
    "cntm1=c(cntm1,cntm)\n",
    "xym1=c(xym1,xym)\n",
    "cntm=cntm1\n",
    "xym=xym1\n",
    "\n",
    "# # # cntm=cntm1$'151507'\n",
    "# # # xym=xym1$'151507'\n",
    "# # # save(cntm,xym,file=paste(dirs,\"BASS_data/151507.RData\",sep=\"\"))\n"
   ]
  },
  {
   "cell_type": "code",
   "execution_count": 53,
   "id": "2eef0a25",
   "metadata": {},
   "outputs": [
    {
     "name": "stdout",
     "output_type": "stream",
     "text": [
      "***************************************\n",
      "  INPUT INFO:\n",
      "    - Number of tissue sections: 2 \n",
      "    - Number of cells/spots: 4226 4384 \n",
      "    - Number of genes: 33538 \n",
      "    - Potts interaction parameter estimation method: SW \n",
      "      - Estimate Potts interaction parameter with SW algorithm\n",
      "  To list all hyper-parameters, Type listAllHyper(BASS_object)\n",
      "***************************************\n",
      "***** Log-normalize gene expression data *****\n",
      "***** Select spatially expressed genes with sparkx *****\n"
     ]
    },
    {
     "name": "stderr",
     "output_type": "stream",
     "text": [
      "Warning message in FUN(newX[, i], ...):\n",
      "“There are p-values that are exactly 1!”\n",
      "Warning message in FUN(newX[, i], ...):\n",
      "“There are p-values that are exactly 1!”\n",
      "Warning message in FUN(newX[, i], ...):\n",
      "“There are p-values that are exactly 1!”\n",
      "Warning message in FUN(newX[, i], ...):\n",
      "“There are p-values that are exactly 1!”\n",
      "Warning message in FUN(newX[, i], ...):\n",
      "“There are p-values that are exactly 1!”\n",
      "Warning message in FUN(newX[, i], ...):\n",
      "“There are p-values that are exactly 1!”\n",
      "Warning message in FUN(newX[, i], ...):\n",
      "“There are p-values that are exactly 1!”\n"
     ]
    },
    {
     "name": "stdout",
     "output_type": "stream",
     "text": [
      "***** Exclude genes with 0 expression *****\n",
      "***** Reduce data dimension with PCA *****\n",
      "***** Correct batch effect with Harmony *****\n",
      "Post-processing...\n",
      "done\n",
      "***************************************\n",
      "  INPUT INFO:\n",
      "    - Number of tissue sections: 2 \n",
      "    - Number of cells/spots: 4384 4789 \n",
      "    - Number of genes: 33538 \n",
      "    - Potts interaction parameter estimation method: SW \n",
      "      - Estimate Potts interaction parameter with SW algorithm\n",
      "  To list all hyper-parameters, Type listAllHyper(BASS_object)\n",
      "***************************************\n",
      "***** Log-normalize gene expression data *****\n",
      "***** Select spatially expressed genes with sparkx *****\n"
     ]
    },
    {
     "name": "stderr",
     "output_type": "stream",
     "text": [
      "Warning message in FUN(newX[, i], ...):\n",
      "“There are p-values that are exactly 1!”\n",
      "Warning message in FUN(newX[, i], ...):\n",
      "“There are p-values that are exactly 1!”\n",
      "Warning message in FUN(newX[, i], ...):\n",
      "“There are p-values that are exactly 1!”\n",
      "Warning message in FUN(newX[, i], ...):\n",
      "“There are p-values that are exactly 1!”\n",
      "Warning message in FUN(newX[, i], ...):\n",
      "“There are p-values that are exactly 1!”\n",
      "Warning message in FUN(newX[, i], ...):\n",
      "“There are p-values that are exactly 1!”\n",
      "Warning message in FUN(newX[, i], ...):\n",
      "“There are p-values that are exactly 1!”\n",
      "Warning message in FUN(newX[, i], ...):\n",
      "“There are p-values that are exactly 1!”\n"
     ]
    },
    {
     "name": "stdout",
     "output_type": "stream",
     "text": [
      "***** Exclude genes with 0 expression *****\n",
      "***** Reduce data dimension with PCA *****\n",
      "***** Correct batch effect with Harmony *****\n",
      "Post-processing...\n",
      "done\n",
      "***************************************\n",
      "  INPUT INFO:\n",
      "    - Number of tissue sections: 2 \n",
      "    - Number of cells/spots: 4789 4634 \n",
      "    - Number of genes: 33538 \n",
      "    - Potts interaction parameter estimation method: SW \n",
      "      - Estimate Potts interaction parameter with SW algorithm\n",
      "  To list all hyper-parameters, Type listAllHyper(BASS_object)\n",
      "***************************************\n",
      "***** Log-normalize gene expression data *****\n",
      "***** Select spatially expressed genes with sparkx *****\n"
     ]
    },
    {
     "name": "stderr",
     "output_type": "stream",
     "text": [
      "Warning message in FUN(newX[, i], ...):\n",
      "“There are p-values that are exactly 1!”\n",
      "Warning message in FUN(newX[, i], ...):\n",
      "“There are p-values that are exactly 1!”\n",
      "Warning message in FUN(newX[, i], ...):\n",
      "“There are p-values that are exactly 1!”\n",
      "Warning message in FUN(newX[, i], ...):\n",
      "“There are p-values that are exactly 1!”\n",
      "Warning message in FUN(newX[, i], ...):\n",
      "“There are p-values that are exactly 1!”\n"
     ]
    },
    {
     "name": "stdout",
     "output_type": "stream",
     "text": [
      "***** Exclude genes with 0 expression *****\n",
      "***** Reduce data dimension with PCA *****\n",
      "***** Correct batch effect with Harmony *****\n",
      "Post-processing...\n",
      "done\n",
      "***************************************\n",
      "  INPUT INFO:\n",
      "    - Number of tissue sections: 2 \n",
      "    - Number of cells/spots: 3661 3498 \n",
      "    - Number of genes: 33538 \n",
      "    - Potts interaction parameter estimation method: SW \n",
      "      - Estimate Potts interaction parameter with SW algorithm\n",
      "  To list all hyper-parameters, Type listAllHyper(BASS_object)\n",
      "***************************************\n",
      "***** Log-normalize gene expression data *****\n",
      "***** Select spatially expressed genes with sparkx *****\n"
     ]
    },
    {
     "name": "stderr",
     "output_type": "stream",
     "text": [
      "Warning message in FUN(newX[, i], ...):\n",
      "“There are p-values that are exactly 1!”\n",
      "Warning message in FUN(newX[, i], ...):\n",
      "“There are p-values that are exactly 1!”\n",
      "Warning message in FUN(newX[, i], ...):\n",
      "“There are p-values that are exactly 1!”\n"
     ]
    },
    {
     "name": "stdout",
     "output_type": "stream",
     "text": [
      "***** Exclude genes with 0 expression *****\n",
      "***** Reduce data dimension with PCA *****\n",
      "***** Correct batch effect with Harmony *****\n",
      "Post-processing...\n",
      "done\n",
      "***************************************\n",
      "  INPUT INFO:\n",
      "    - Number of tissue sections: 2 \n",
      "    - Number of cells/spots: 3498 4110 \n",
      "    - Number of genes: 33538 \n",
      "    - Potts interaction parameter estimation method: SW \n",
      "      - Estimate Potts interaction parameter with SW algorithm\n",
      "  To list all hyper-parameters, Type listAllHyper(BASS_object)\n",
      "***************************************\n",
      "***** Log-normalize gene expression data *****\n",
      "***** Select spatially expressed genes with sparkx *****\n"
     ]
    },
    {
     "name": "stderr",
     "output_type": "stream",
     "text": [
      "Warning message in FUN(newX[, i], ...):\n",
      "“There are p-values that are exactly 1!”\n",
      "Warning message in FUN(newX[, i], ...):\n",
      "“There are p-values that are exactly 1!”\n"
     ]
    },
    {
     "name": "stdout",
     "output_type": "stream",
     "text": [
      "***** Exclude genes with 0 expression *****\n",
      "***** Reduce data dimension with PCA *****\n",
      "***** Correct batch effect with Harmony *****\n",
      "Post-processing...\n",
      "done\n",
      "***************************************\n",
      "  INPUT INFO:\n",
      "    - Number of tissue sections: 2 \n",
      "    - Number of cells/spots: 4110 4015 \n",
      "    - Number of genes: 33538 \n",
      "    - Potts interaction parameter estimation method: SW \n",
      "      - Estimate Potts interaction parameter with SW algorithm\n",
      "  To list all hyper-parameters, Type listAllHyper(BASS_object)\n",
      "***************************************\n",
      "***** Log-normalize gene expression data *****\n",
      "***** Select spatially expressed genes with sparkx *****\n"
     ]
    },
    {
     "name": "stderr",
     "output_type": "stream",
     "text": [
      "Warning message in FUN(newX[, i], ...):\n",
      "“There are p-values that are exactly 1!”\n"
     ]
    },
    {
     "name": "stdout",
     "output_type": "stream",
     "text": [
      "***** Exclude genes with 0 expression *****\n",
      "***** Reduce data dimension with PCA *****\n",
      "***** Correct batch effect with Harmony *****\n",
      "Post-processing...\n",
      "done\n",
      "***************************************\n",
      "  INPUT INFO:\n",
      "    - Number of tissue sections: 2 \n",
      "    - Number of cells/spots: 3639 3673 \n",
      "    - Number of genes: 33538 \n",
      "    - Potts interaction parameter estimation method: SW \n",
      "      - Estimate Potts interaction parameter with SW algorithm\n",
      "  To list all hyper-parameters, Type listAllHyper(BASS_object)\n",
      "***************************************\n",
      "***** Log-normalize gene expression data *****\n",
      "***** Select spatially expressed genes with sparkx *****\n"
     ]
    },
    {
     "name": "stderr",
     "output_type": "stream",
     "text": [
      "Warning message in FUN(newX[, i], ...):\n",
      "“There are p-values that are exactly 1!”\n",
      "Warning message in FUN(newX[, i], ...):\n",
      "“There are p-values that are exactly 1!”\n"
     ]
    },
    {
     "name": "stdout",
     "output_type": "stream",
     "text": [
      "***** Exclude genes with 0 expression *****\n",
      "***** Reduce data dimension with PCA *****\n",
      "***** Correct batch effect with Harmony *****\n",
      "Post-processing...\n",
      "done\n",
      "***************************************\n",
      "  INPUT INFO:\n",
      "    - Number of tissue sections: 2 \n",
      "    - Number of cells/spots: 3673 3592 \n",
      "    - Number of genes: 33538 \n",
      "    - Potts interaction parameter estimation method: SW \n",
      "      - Estimate Potts interaction parameter with SW algorithm\n",
      "  To list all hyper-parameters, Type listAllHyper(BASS_object)\n",
      "***************************************\n",
      "***** Log-normalize gene expression data *****\n",
      "***** Select spatially expressed genes with sparkx *****\n"
     ]
    },
    {
     "name": "stderr",
     "output_type": "stream",
     "text": [
      "Warning message in FUN(newX[, i], ...):\n",
      "“There are p-values that are exactly 1!”\n",
      "Warning message in FUN(newX[, i], ...):\n",
      "“There are p-values that are exactly 1!”\n",
      "Warning message in FUN(newX[, i], ...):\n",
      "“There are p-values that are exactly 1!”\n",
      "Warning message in FUN(newX[, i], ...):\n",
      "“There are p-values that are exactly 1!”\n",
      "Warning message in FUN(newX[, i], ...):\n",
      "“There are p-values that are exactly 1!”\n",
      "Warning message in FUN(newX[, i], ...):\n",
      "“There are p-values that are exactly 1!”\n"
     ]
    },
    {
     "name": "stdout",
     "output_type": "stream",
     "text": [
      "***** Exclude genes with 0 expression *****\n",
      "***** Reduce data dimension with PCA *****\n",
      "***** Correct batch effect with Harmony *****\n",
      "Post-processing...\n",
      "done\n",
      "***************************************\n",
      "  INPUT INFO:\n",
      "    - Number of tissue sections: 2 \n",
      "    - Number of cells/spots: 3592 3460 \n",
      "    - Number of genes: 33538 \n",
      "    - Potts interaction parameter estimation method: SW \n",
      "      - Estimate Potts interaction parameter with SW algorithm\n",
      "  To list all hyper-parameters, Type listAllHyper(BASS_object)\n",
      "***************************************\n",
      "***** Log-normalize gene expression data *****\n",
      "***** Select spatially expressed genes with sparkx *****\n"
     ]
    },
    {
     "name": "stderr",
     "output_type": "stream",
     "text": [
      "Warning message in FUN(newX[, i], ...):\n",
      "“There are p-values that are exactly 1!”\n",
      "Warning message in FUN(newX[, i], ...):\n",
      "“There are p-values that are exactly 1!”\n",
      "Warning message in FUN(newX[, i], ...):\n",
      "“There are p-values that are exactly 1!”\n",
      "Warning message in FUN(newX[, i], ...):\n",
      "“There are p-values that are exactly 1!”\n",
      "Warning message in FUN(newX[, i], ...):\n",
      "“There are p-values that are exactly 1!”\n"
     ]
    },
    {
     "name": "stdout",
     "output_type": "stream",
     "text": [
      "***** Exclude genes with 0 expression *****\n",
      "***** Reduce data dimension with PCA *****\n",
      "***** Correct batch effect with Harmony *****\n",
      "Post-processing...\n",
      "done\n"
     ]
    }
   ],
   "source": [
    "dirs=\"/data02/tguo/space_batch_effect/human_DLPFC_10x/\"\n",
    "# number (20) to capture the expression heterogeneity.\n",
    "C <- 20\n",
    "# number of spatial domains\n",
    "R <- 7\n",
    "IDX=list(c(1,2),c(2,3),c(3,4),c(5,6),c(6,7),c(7,8),c(9,10),c(10,11),c(11,12))\n",
    "for(idx in 1:length(IDX)){\n",
    "    cntm=cntm1[IDX[[idx]]]\n",
    "    xym=xym1[IDX[[idx]]]\n",
    "    BASS <- createBASSObject(cntm, xym, C = C, R = R,\n",
    "      beta_method = \"SW\", init_method = \"mclust\", \n",
    "      nsample = 10000)\n",
    "    BASS <- BASS.preprocess(BASS, doLogNormalize = TRUE,\n",
    "      geneSelect = \"sparkx\", nSE = 3000, doPCA = TRUE, \n",
    "      scaleFeature = FALSE, nPC = 20)\n",
    "    BASS <- BASS.run(BASS)\n",
    "    BASS <- BASS.postprocess(BASS)\n",
    "    batch=names(xym)\n",
    "    cells=colnames(BASS@X[[1]])\n",
    "    cells=paste(batch[1],cells,sep='-')\n",
    "    label=data.frame(BASS_label=BASS@results$z[[1]])\n",
    "    rownames(label)=cells\n",
    "    for(i in 2:length(batch)){\n",
    "        cells=colnames(BASS@X[[i]])\n",
    "        cells=paste(batch[i],cells,sep='-')\n",
    "        a=data.frame(BASS_label=BASS@results$z[[i]])\n",
    "        rownames(a)=cells\n",
    "        label=rbind(label,a)\n",
    "    }\n",
    "    flags=''\n",
    "    for(i in 1:length(batch)){\n",
    "        flags=paste(flags,'_',batch[i],sep='')\n",
    "    }\n",
    "    write.csv(label,paste(dirs,\"metrics/BASS_BASS_clust\",flags,\".csv\",sep=\"\"))\n",
    "}\n",
    "\n",
    "\n",
    "\n"
   ]
  },
  {
   "cell_type": "markdown",
   "id": "5af10b5b",
   "metadata": {},
   "source": [
    "coronal mouse brain "
   ]
  },
  {
   "cell_type": "code",
   "execution_count": 102,
   "id": "dfaf0f25",
   "metadata": {},
   "outputs": [],
   "source": [
    "dirs=\"/data02/tguo/space_batch_effect/Hippo/\"\n",
    "a1=readRDS(paste(dirs,\"origin/10X_coronal_brain.rds\",sep=\"\"))\n",
    "a2=readRDS(paste(dirs,\"origin/10X_coronal_brain_DAPI.rds\",sep=\"\"))\n",
    "a3=readRDS(paste(dirs,\"origin/10X_coronal_brain_FFPE.rds\",sep=\"\"))\n",
    "feat=intersect(rownames(a1),intersect(rownames(a2),rownames(a3)))\n",
    "cntm=list()\n",
    "xym=list()\n",
    "cntm=list('10X_Normal'=a1@assays$Spatial@counts[feat,],\n",
    "         '10X_DAPI'=a2@assays$Spatial@counts[feat,],\n",
    "         '10X_FFPE'=a3@assays$Spatial@counts[feat,])\n",
    "xym=list('10X_Normal'=as.matrix(a1@images$slice1@coordinates[,c('row','col')]),\n",
    "     '10X_DAPI'=as.matrix(a2@images$slice1@coordinates[,c('row','col')]),\n",
    "    '10X_FFPE'=as.matrix(a3@images$slice1@coordinates[,c('row','col')]))\n",
    "\n",
    "\n",
    "C <- 20\n",
    "# number of spatial domains\n",
    "R <- 12\n",
    "\n",
    "BASS <- createBASSObject(cntm, xym, C = C, R = R,\n",
    "  beta_method = \"SW\", init_method = \"mclust\", \n",
    "  nsample = 10000)\n",
    "BASS <- BASS.preprocess(BASS, doLogNormalize = TRUE,\n",
    "  geneSelect = \"sparkx\", nSE = 3000, doPCA = TRUE, \n",
    "  scaleFeature = FALSE, nPC = 20)\n",
    "BASS <- BASS.run(BASS)\n",
    "BASS <- BASS.postprocess(BASS)\n",
    "batch=names(xym)\n",
    "cells=colnames(BASS@X[[1]])\n",
    "cells=paste(batch[1],cells,sep='-')\n",
    "label=data.frame(BASS_label=BASS@results$z[[1]])\n",
    "rownames(label)=cells\n",
    "for(i in 2:length(batch)){\n",
    "    cells=colnames(BASS@X[[i]])\n",
    "    cells=paste(batch[i],cells,sep='-')\n",
    "    a=data.frame(BASS_label=BASS@results$z[[i]])\n",
    "    rownames(a)=cells\n",
    "    label=rbind(label,a)\n",
    "}\n",
    "\n",
    "flags=''\n",
    "for(i in 1:length(batch)){\n",
    "    flags=paste(flags,'_',batch[i],sep='')\n",
    "}\n",
    "write.csv(label,paste(dirs,\"metrics/BASS_BASS_clust\",flags,\".csv\",sep=\"\"))"
   ]
  },
  {
   "cell_type": "markdown",
   "id": "5c166225",
   "metadata": {},
   "source": [
    "saggital mouse brain"
   ]
  },
  {
   "cell_type": "code",
   "execution_count": 8,
   "id": "26c2ab36",
   "metadata": {
    "collapsed": true
   },
   "outputs": [
    {
     "name": "stdout",
     "output_type": "stream",
     "text": [
      "***************************************\n",
      "  INPUT INFO:\n",
      "    - Number of tissue sections: 4 \n",
      "    - Number of cells/spots: 2696 2825 3353 3293 \n",
      "    - Number of genes: 16685 \n",
      "    - Potts interaction parameter estimation method: SW \n",
      "      - Estimate Potts interaction parameter with SW algorithm\n",
      "  To list all hyper-parameters, Type listAllHyper(BASS_object)\n",
      "***************************************\n",
      "***** Log-normalize gene expression data *****\n",
      "***** Select spatially expressed genes with sparkx *****\n"
     ]
    },
    {
     "name": "stderr",
     "output_type": "stream",
     "text": [
      "Warning message in FUN(newX[, i], ...):\n",
      "“There are p-values that are exactly 1!”\n",
      "Warning message in FUN(newX[, i], ...):\n",
      "“There are p-values that are exactly 1!”\n",
      "Warning message in FUN(newX[, i], ...):\n",
      "“There are p-values that are exactly 1!”\n",
      "Warning message in FUN(newX[, i], ...):\n",
      "“There are p-values that are exactly 1!”\n",
      "Warning message in FUN(newX[, i], ...):\n",
      "“There are p-values that are exactly 1!”\n",
      "Warning message in FUN(newX[, i], ...):\n",
      "“There are p-values that are exactly 1!”\n"
     ]
    },
    {
     "name": "stdout",
     "output_type": "stream",
     "text": [
      "***** Exclude genes with 0 expression *****\n",
      "***** Reduce data dimension with PCA *****\n",
      "***** Correct batch effect with Harmony *****\n",
      "Post-processing...\n",
      "done\n"
     ]
    }
   ],
   "source": [
    "dirs=\"/data02/tguo/space_batch_effect/mouse_brain/\"\n",
    "a1=readRDS(paste(dirs,\"origin/anterior1.rds\",sep=\"\"))\n",
    "a2=readRDS(paste(dirs,\"origin/anterior2.rds\",sep=\"\"))\n",
    "a3=readRDS(paste(dirs,\"origin/posterior1.rds\",sep=\"\"))\n",
    "a4=readRDS(paste(dirs,\"origin/posterior2.rds\",sep=\"\"))\n",
    "feat=intersect(rownames(a1),intersect(rownames(a2),intersect(rownames(a3),rownames(a4))))\n",
    "cntm=list()\n",
    "xym=list()\n",
    "cntm=list('all_anterior1'=a1@assays$Spatial@counts[feat,],\n",
    "         'all_anterior2'=a2@assays$Spatial@counts[feat,],\n",
    "         'all_posterior1'=a3@assays$Spatial@counts[feat,],\n",
    "         'all_posterior2'=a4@assays$Spatial@counts[feat,])\n",
    "xym=list('all_anterior1'=as.matrix(a1@images$anterior1@coordinates[,c('row','col')]),\n",
    "     'all_anterior2'=as.matrix(a2@images$anterior2@coordinates[,c('row','col')]),\n",
    "    'all_posterior1'=as.matrix(a3@images$posterior1@coordinates[,c('row','col')]),\n",
    "    'all_posterior2'=as.matrix(a4@images$posterior2@coordinates[,c('row','col')]))\n",
    "\n",
    "\n",
    "C <- 20\n",
    "# number of spatial domains\n",
    "R <- 20\n",
    "\n",
    "BASS <- createBASSObject(cntm, xym, C = C, R = R,\n",
    "  beta_method = \"SW\", init_method = \"mclust\", \n",
    "  nsample = 10000)\n",
    "BASS <- BASS.preprocess(BASS, doLogNormalize = TRUE,\n",
    "  geneSelect = \"sparkx\", nSE = 3000, doPCA = TRUE, \n",
    "  scaleFeature = FALSE, nPC = 20)\n",
    "BASS <- BASS.run(BASS)\n",
    "BASS <- BASS.postprocess(BASS)\n",
    "batch=names(xym)\n",
    "cells=colnames(BASS@X[[1]])\n",
    "cells=paste(batch[1],cells,sep='-')\n",
    "label=data.frame(BASS_label=BASS@results$z[[1]])\n",
    "rownames(label)=cells\n",
    "for(i in 2:length(batch)){\n",
    "    cells=colnames(BASS@X[[i]])\n",
    "    cells=paste(batch[i],cells,sep='-')\n",
    "    a=data.frame(BASS_label=BASS@results$z[[i]])\n",
    "    rownames(a)=cells\n",
    "    label=rbind(label,a)\n",
    "}\n",
    "\n",
    "flags=''\n",
    "for(i in 1:length(batch)){\n",
    "    flags=paste(flags,'_',batch[i],sep='')\n",
    "}\n",
    "write.csv(label,paste(dirs,\"metrics/BASS_BASS_clust\",flags,\".csv\",sep=\"\"))"
   ]
  },
  {
   "cell_type": "code",
   "execution_count": 11,
   "id": "272c7c53",
   "metadata": {},
   "outputs": [
    {
     "name": "stdout",
     "output_type": "stream",
     "text": [
      "***************************************\n",
      "  INPUT INFO:\n",
      "    - Number of tissue sections: 2 \n",
      "    - Number of cells/spots: 3353 3293 \n",
      "    - Number of genes: 17179 \n",
      "    - Potts interaction parameter estimation method: SW \n",
      "      - Estimate Potts interaction parameter with SW algorithm\n",
      "  To list all hyper-parameters, Type listAllHyper(BASS_object)\n",
      "***************************************\n",
      "***** Log-normalize gene expression data *****\n",
      "***** Select spatially expressed genes with sparkx *****\n"
     ]
    },
    {
     "name": "stderr",
     "output_type": "stream",
     "text": [
      "Warning message in FUN(newX[, i], ...):\n",
      "“There are p-values that are exactly 1!”\n",
      "Warning message in FUN(newX[, i], ...):\n",
      "“There are p-values that are exactly 1!”\n",
      "Warning message in FUN(newX[, i], ...):\n",
      "“There are p-values that are exactly 1!”\n"
     ]
    },
    {
     "name": "stdout",
     "output_type": "stream",
     "text": [
      "***** Exclude genes with 0 expression *****\n",
      "***** Reduce data dimension with PCA *****\n",
      "***** Correct batch effect with Harmony *****\n",
      "Post-processing...\n",
      "done\n"
     ]
    }
   ],
   "source": [
    "dirs=\"/data02/tguo/space_batch_effect/mouse_brain/\"\n",
    "a1=readRDS(paste(dirs,\"origin/posterior1.rds\",sep=\"\"))\n",
    "a2=readRDS(paste(dirs,\"origin/posterior2.rds\",sep=\"\"))\n",
    "feat=intersect(rownames(a1),intersect(rownames(a2),intersect(rownames(a3),rownames(a4))))\n",
    "cntm=list()\n",
    "xym=list()\n",
    "cntm=list('posterior1'=a1@assays$Spatial@counts[feat,],\n",
    "         'posterior2'=a2@assays$Spatial@counts[feat,])\n",
    "xym=list('posterior1'=as.matrix(a1@images$posterior1@coordinates[,c('row','col')]),\n",
    "     'posterior2'=as.matrix(a2@images$posterior2@coordinates[,c('row','col')]))\n",
    "\n",
    "\n",
    "C <- 20\n",
    "# number of spatial domains\n",
    "R <- 20\n",
    "\n",
    "BASS <- createBASSObject(cntm, xym, C = C, R = R,\n",
    "  beta_method = \"SW\", init_method = \"mclust\", \n",
    "  nsample = 10000)\n",
    "BASS <- BASS.preprocess(BASS, doLogNormalize = TRUE,\n",
    "  geneSelect = \"sparkx\", nSE = 3000, doPCA = TRUE, \n",
    "  scaleFeature = FALSE, nPC = 20)\n",
    "BASS <- BASS.run(BASS)\n",
    "BASS <- BASS.postprocess(BASS)\n",
    "batch=names(xym)\n",
    "cells=colnames(BASS@X[[1]])\n",
    "cells=paste(batch[1],cells,sep='-')\n",
    "label=data.frame(BASS_label=BASS@results$z[[1]])\n",
    "rownames(label)=cells\n",
    "for(i in 2:length(batch)){\n",
    "    cells=colnames(BASS@X[[i]])\n",
    "    cells=paste(batch[i],cells,sep='-')\n",
    "    a=data.frame(BASS_label=BASS@results$z[[i]])\n",
    "    rownames(a)=cells\n",
    "    label=rbind(label,a)\n",
    "}\n",
    "\n",
    "flags=''\n",
    "for(i in 1:length(batch)){\n",
    "    flags=paste(flags,'_',batch[i],sep='')\n",
    "}\n",
    "write.csv(label,paste(dirs,\"metrics/BASS_BASS_clust\",flags,\".csv\",sep=\"\"))"
   ]
  },
  {
   "cell_type": "markdown",
   "id": "d137a611",
   "metadata": {},
   "source": [
    "mouse OB"
   ]
  },
  {
   "cell_type": "code",
   "execution_count": 14,
   "id": "d8a1bd04",
   "metadata": {},
   "outputs": [],
   "source": [
    "# dirs=\"/data02/tguo/space_batch_effect/mouse_OB/\"\n",
    "# a1<-readRDS(paste(dirs,\"origin/mouse_OB_BGI_bin50.rds\",sep=''))\n",
    "# a2<-readRDS(paste(dirs,\"origin/slide_seq2_mouse_OB.rds\",sep=''))\n",
    "# feat=intersect(rownames(a1),rownames(a2))\n",
    "cntm=list()\n",
    "xym=list()\n",
    "cntm=list('BGI'=a1@assays$Spatial@data[feat,],\n",
    "         'SlideV2'=a2@assays$Spatial@data[feat,])\n",
    "xym=list('BGI'=as.matrix(a1@images$slice1@coordinates[,c('imagerow','imagecol')]),\n",
    "     'SlideV2'=as.matrix(a2@images$image@coordinates[,c('x','y')]))\n"
   ]
  },
  {
   "cell_type": "code",
   "execution_count": null,
   "id": "9ef510cc",
   "metadata": {
    "collapsed": true
   },
   "outputs": [
    {
     "name": "stdout",
     "output_type": "stream",
     "text": [
      "***************************************\n",
      "  INPUT INFO:\n",
      "    - Number of tissue sections: 2 \n",
      "    - Number of cells/spots: 8827 18537 \n",
      "    - Number of genes: 18392 \n",
      "    - Potts interaction parameter estimation method: SW \n",
      "      - Estimate Potts interaction parameter with SW algorithm\n",
      "  To list all hyper-parameters, Type listAllHyper(BASS_object)\n",
      "***************************************\n",
      "***** Select spatially expressed genes with sparkx *****\n"
     ]
    },
    {
     "name": "stderr",
     "output_type": "stream",
     "text": [
      "Warning message in FUN(newX[, i], ...):\n",
      "“There are p-values that are exactly 1!”\n",
      "Warning message in FUN(newX[, i], ...):\n",
      "“There are p-values that are exactly 1!”\n",
      "Warning message in FUN(newX[, i], ...):\n",
      "“There are p-values that are exactly 1!”\n"
     ]
    },
    {
     "name": "stdout",
     "output_type": "stream",
     "text": [
      "***** Exclude genes with 0 expression *****\n",
      "***** Reduce data dimension with PCA *****\n",
      "***** Correct batch effect with Harmony *****\n"
     ]
    }
   ],
   "source": [
    "C <- 20\n",
    "R <- 9\n",
    "\n",
    "BASS <- createBASSObject(cntm, xym, C = C, R = R,\n",
    "  beta_method = \"SW\", init_method = \"mclust\", \n",
    "  nsample = 10000)\n",
    "BASS <- BASS.preprocess(BASS, doLogNormalize = FALSE,\n",
    "  geneSelect = \"sparkx\", nSE = 3000, doPCA = TRUE, \n",
    "  scaleFeature = FALSE, nPC = 20)\n",
    "BASS <- BASS.run(BASS)\n",
    "BASS <- BASS.postprocess(BASS)\n",
    "batch=names(xym)\n",
    "cells=colnames(BASS@X[[1]])\n",
    "cells=paste(batch[1],cells,sep='-')\n",
    "label=data.frame(BASS_label=BASS@results$z[[1]])\n",
    "rownames(label)=cells\n",
    "for(i in 2:length(batch)){\n",
    "    cells=colnames(BASS@X[[i]])\n",
    "    cells=paste(batch[i],cells,sep='-')\n",
    "    a=data.frame(BASS_label=BASS@results$z[[i]])\n",
    "    rownames(a)=cells\n",
    "    label=rbind(label,a)\n",
    "}\n",
    "\n",
    "flags=''\n",
    "for(i in 1:length(batch)){\n",
    "    flags=paste(flags,'_',batch[i],sep='')\n",
    "}\n",
    "write.csv(label,paste(dirs,\"metrics/BASS_BASS_clust\",flags,\".csv\",sep=\"\"))"
   ]
  },
  {
   "cell_type": "markdown",
   "id": "c7537751",
   "metadata": {},
   "source": [
    "simulate"
   ]
  },
  {
   "cell_type": "code",
   "execution_count": 6,
   "id": "060a1c29",
   "metadata": {},
   "outputs": [
    {
     "name": "stdout",
     "output_type": "stream",
     "text": [
      "***************************************\n",
      "  INPUT INFO:\n",
      "    - Number of tissue sections: 2 \n",
      "    - Number of cells/spots: 500 500 \n",
      "    - Number of genes: 500 \n",
      "    - Potts interaction parameter estimation method: SW \n",
      "      - Estimate Potts interaction parameter with SW algorithm\n",
      "  To list all hyper-parameters, Type listAllHyper(BASS_object)\n",
      "***************************************\n",
      "***** Exclude genes with 0 expression *****\n",
      "***** Reduce data dimension with PCA *****\n",
      "***** Correct batch effect with Harmony *****\n",
      "Post-processing...\n",
      "done\n"
     ]
    }
   ],
   "source": [
    "dirs=\"/data02/tguo/space_batch_effect/simulate/\"\n",
    "dirs=\"/data02/tguo/space_batch_effect/simulate/\"\n",
    "batch_sim=\"_1\"\n",
    "types=\"\"\n",
    "flags=paste(batch_sim,types,sep=\"\")\n",
    "data_name=c('Batch1','Batch2')\n",
    "B=2\n",
    "\n",
    "a1<-read.csv(paste(dirs,\"gtt_input/feat1\",flags,\".csv\",sep=\"\"),header=T,row.names=1)\n",
    "a2<-read.csv(paste(dirs,\"gtt_input/feat2\",flags,\".csv\",sep=\"\"),header=T,row.names=1)\n",
    "b1<-read.csv(paste(dirs,\"gtt_input/coord1\",flags,\".csv\",sep=\"\"),header=T,row.names=1)\n",
    "b2<-read.csv(paste(dirs,\"gtt_input/coord2\",flags,\".csv\",sep=\"\"),header=T,row.names=1)\n",
    "\n",
    "\n",
    "a1=as(as.matrix(t(a1)),'dgCMatrix')\n",
    "a2=as(as.matrix(t(a2)),'dgCMatrix')\n",
    "\n",
    "a1<-CreateSeuratObject(counts=a1)\n",
    "a1@images$image <- new(Class = 'SlideSeq',assay = \"Spatial\",key = \"image_\",coordinates = b1[colnames(a1),])\n",
    "a2<-CreateSeuratObject(counts=a2)\n",
    "a2@images$image <- new(Class = 'SlideSeq',assay = \"Spatial\",key = \"image_\",coordinates = b2[colnames(a2),])\n",
    "\n",
    "\n",
    "\n",
    "feat=intersect(rownames(a1),rownames(a2))\n",
    "cntm=list()\n",
    "xym=list()\n",
    "cntm=list('Batch1'=a1@assays$RNA@data[feat,],\n",
    "         'Batch2'=a2@assays$RNA@data[feat,])\n",
    "xym=list('Batch1'=as.matrix(a1@images$image@coordinates[,c('x','y')]),\n",
    "         'Batch2'=as.matrix(a2@images$image@coordinates[,c('x','y')]))\n",
    "\n",
    "\n",
    "C <- 6\n",
    "R <- 6\n",
    "\n",
    "BASS <- createBASSObject(cntm, xym, C = C, R = R,\n",
    "  beta_method = \"SW\", init_method = \"mclust\", \n",
    "  nsample = 100)\n",
    "BASS <- BASS.preprocess(BASS, doLogNormalize = FALSE,\n",
    "  geneSelect = \"sparkx\", nSE = 3000, doPCA = TRUE, \n",
    "  scaleFeature = FALSE, nPC = 10)\n",
    "BASS <- BASS.run(BASS)\n",
    "BASS <- BASS.postprocess(BASS)\n",
    "cells=colnames(BASS@X[[1]])\n",
    "label=data.frame(BASS_label=BASS@results$z[[1]])\n",
    "rownames(label)=cells\n",
    "for(i in 2:B){\n",
    "    cells=colnames(BASS@X[[i]])\n",
    "    a=data.frame(BASS_label=BASS@results$z[[i]])\n",
    "    rownames(a)=cells\n",
    "    label=rbind(label,a)\n",
    "}\n",
    "\n",
    "write.csv(label,paste(dirs,\"metrics/BASS_BASS_clust\",flags,\".csv\",sep=\"\"))"
   ]
  },
  {
   "cell_type": "code",
   "execution_count": 5,
   "id": "fae9c0ba",
   "metadata": {},
   "outputs": [
    {
     "name": "stdout",
     "output_type": "stream",
     "text": [
      "***************************************\n",
      "  INPUT INFO:\n",
      "    - Number of tissue sections: 3 \n",
      "    - Number of cells/spots: 239 286 321 \n",
      "    - Number of genes: 500 \n",
      "    - Potts interaction parameter estimation method: SW \n",
      "      - Estimate Potts interaction parameter with SW algorithm\n",
      "  To list all hyper-parameters, Type listAllHyper(BASS_object)\n",
      "***************************************\n",
      "***** Exclude genes with 0 expression *****\n",
      "***** Reduce data dimension with PCA *****\n",
      "***** Correct batch effect with Harmony *****\n",
      "Post-processing...\n",
      "done\n"
     ]
    }
   ],
   "source": [
    "dirs=\"/data02/tguo/space_batch_effect/simulate/\"\n",
    "dirs=\"/data02/tguo/space_batch_effect/simulate/\"\n",
    "batch_sim=\"_1_2\"\n",
    "types=\"_3batch_types5\"\n",
    "flags=paste(batch_sim,types,sep=\"\")\n",
    "data_name=c('Batch1','Batch2','Batch3')\n",
    "B=3\n",
    "\n",
    "a1<-read.csv(paste(dirs,\"gtt_input/feat1\",flags,\".csv\",sep=\"\"),header=T,row.names=1)\n",
    "a2<-read.csv(paste(dirs,\"gtt_input/feat2\",flags,\".csv\",sep=\"\"),header=T,row.names=1)\n",
    "a3<-read.csv(paste(dirs,\"gtt_input/feat3\",flags,\".csv\",sep=\"\"),header=T,row.names=1)\n",
    "b1<-read.csv(paste(dirs,\"gtt_input/coord1\",flags,\".csv\",sep=\"\"),header=T,row.names=1)\n",
    "b2<-read.csv(paste(dirs,\"gtt_input/coord2\",flags,\".csv\",sep=\"\"),header=T,row.names=1)\n",
    "b3<-read.csv(paste(dirs,\"gtt_input/coord3\",flags,\".csv\",sep=\"\"),header=T,row.names=1)\n",
    "\n",
    "a1=as(as.matrix(t(a1)),'dgCMatrix')\n",
    "a2=as(as.matrix(t(a2)),'dgCMatrix')\n",
    "a3=as(as.matrix(t(a3)),'dgCMatrix')\n",
    "\n",
    "a1<-CreateSeuratObject(counts=a1)\n",
    "a1@images$image <- new(Class = 'SlideSeq',assay = \"Spatial\",key = \"image_\",coordinates = b1[colnames(a1),])\n",
    "a2<-CreateSeuratObject(counts=a2)\n",
    "a2@images$image <- new(Class = 'SlideSeq',assay = \"Spatial\",key = \"image_\",coordinates = b2[colnames(a2),])\n",
    "a3<-CreateSeuratObject(counts=a3)\n",
    "a3@images$image <- new(Class = 'SlideSeq',assay = \"Spatial\",key = \"image_\",coordinates = b3[colnames(a3),])\n",
    "\n",
    "\n",
    "feat=intersect(intersect(rownames(a1),rownames(a2)),rownames(a3))\n",
    "cntm=list()\n",
    "xym=list()\n",
    "cntm=list('Batch1'=a1@assays$RNA@data[feat,],\n",
    "         'Batch2'=a2@assays$RNA@data[feat,],\n",
    "         'Batch3'=a3@assays$RNA@data[feat,])\n",
    "xym=list('Batch1'=as.matrix(a1@images$image@coordinates[,c('x','y')]),\n",
    "         'Batch2'=as.matrix(a2@images$image@coordinates[,c('x','y')]),\n",
    "        'Batch3'=as.matrix(a3@images$image@coordinates[,c('x','y')]))\n",
    "\n",
    "\n",
    "C <- 6\n",
    "R <- 6\n",
    "\n",
    "BASS <- createBASSObject(cntm, xym, C = C, R = R,\n",
    "  beta_method = \"SW\", init_method = \"mclust\", \n",
    "  nsample = 100)\n",
    "BASS <- BASS.preprocess(BASS, doLogNormalize = FALSE,\n",
    "  geneSelect = \"sparkx\", nSE = 3000, doPCA = TRUE, \n",
    "  scaleFeature = FALSE, nPC = 10)\n",
    "BASS <- BASS.run(BASS)\n",
    "BASS <- BASS.postprocess(BASS)\n",
    "cells=colnames(BASS@X[[1]])\n",
    "label=data.frame(BASS_label=BASS@results$z[[1]])\n",
    "rownames(label)=cells\n",
    "for(i in 2:B){\n",
    "    cells=colnames(BASS@X[[i]])\n",
    "    a=data.frame(BASS_label=BASS@results$z[[i]])\n",
    "    rownames(a)=cells\n",
    "    label=rbind(label,a)\n",
    "}\n",
    "\n",
    "write.csv(label,paste(dirs,\"metrics/BASS_BASS_clust\",flags,\".csv\",sep=\"\"))"
   ]
  },
  {
   "cell_type": "code",
   "execution_count": 3,
   "id": "49d78976",
   "metadata": {},
   "outputs": [
    {
     "data": {
      "text/html": [
       "3"
      ],
      "text/latex": [
       "3"
      ],
      "text/markdown": [
       "3"
      ],
      "text/plain": [
       "[1] 3"
      ]
     },
     "metadata": {},
     "output_type": "display_data"
    }
   ],
   "source": [
    "i"
   ]
  },
  {
   "cell_type": "code",
   "execution_count": null,
   "id": "76f397c0",
   "metadata": {},
   "outputs": [],
   "source": []
  }
 ],
 "metadata": {
  "kernelspec": {
   "display_name": "seurat1",
   "language": "R",
   "name": "seurat1"
  },
  "language_info": {
   "codemirror_mode": "r",
   "file_extension": ".r",
   "mimetype": "text/x-r-source",
   "name": "R",
   "pygments_lexer": "r",
   "version": "4.1.1"
  }
 },
 "nbformat": 4,
 "nbformat_minor": 5
}
