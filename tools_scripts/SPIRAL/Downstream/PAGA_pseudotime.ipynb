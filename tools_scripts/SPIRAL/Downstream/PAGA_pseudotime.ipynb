{
 "cells": [
  {
   "cell_type": "code",
   "execution_count": 1,
   "id": "71fb394e",
   "metadata": {},
   "outputs": [],
   "source": [
    "import scanpy as sc\n",
    "import numpy as np\n",
    "import pandas as pd\n",
    "import anndata\n",
    "import scipy as sp\n",
    "# methods=['GraphSCIDRL','harmony_SEDR','harmony_STAGATE','seurat','harmony','STAligner','DeepST','GraphST']\n",
    "methods=['SPIRAL','harmony_SEDR','harmony_STAGATE','seurat','harmony','STAligner','DeepST','GraphST']"
   ]
  },
  {
   "cell_type": "code",
   "execution_count": 2,
   "id": "2e18e764",
   "metadata": {},
   "outputs": [],
   "source": [
    "dirs=\"/data02/tguo/space_batch_effect/human_DLPFC_10x/\"\n",
    "sample_name=[151507,151508,151509,151510,151669,151670,151671,151672,151673,151674,151675,151676]\n",
    "IDX=np.arange(len(sample_name))\n",
    "flags1=str(sample_name[IDX[0]])\n",
    "for i in np.arange(1,len(IDX)):\n",
    "    flags1=flags1+'-'+str(sample_name[IDX[i]])\n",
    "    \n",
    "i=IDX[0]\n",
    "feat=pd.read_csv(dirs+\"gtt_input_scanpy/\"+flags1+'_'+str(sample_name[i])+\"_features.txt\",header=0,index_col=0,sep=',')\n",
    "meta=pd.read_csv(dirs+\"gtt_input_scanpy/\"+flags1+'_'+str(sample_name[i])+\"_label.txt\",header=0,index_col=0,sep=',')\n",
    "coord=pd.read_csv(dirs+\"gtt_input_scanpy/\"+flags1+'_'+str(sample_name[i])+\"_positions.txt\",header=0,index_col=0,sep=',')\n",
    "flags='_'+str(sample_name[i])\n",
    "for sample in np.array(sample_name)[IDX[1:len(IDX)]]:\n",
    "    feat=pd.concat((feat,pd.read_csv(dirs+\"gtt_input_scanpy/\"+flags1+'_'+str(sample)+\"_features.txt\",header=0,index_col=0,sep=',')))\n",
    "    meta=pd.concat((meta,pd.read_csv(dirs+\"gtt_input_scanpy/\"+flags1+'_'+str(sample)+\"_label.txt\",header=0,index_col=0,sep=',')))\n",
    "    coord=pd.concat((coord,pd.read_csv(dirs+\"gtt_input_scanpy/\"+flags1+'_'+str(sample)+\"_positions.txt\",header=0,index_col=0,sep=',')))\n",
    "    flags=flags+'_'+str(sample)\n",
    "adata = sc.AnnData(feat)\n",
    "adata.var_names_make_unique()\n",
    "coord = coord.loc[adata.obs_names, ['x', 'y']]\n",
    "adata.obsm[\"spatial\"] = coord.to_numpy()\n",
    "adata.X=sp.sparse.csr_matrix(adata.X)\n",
    "adata.obs= meta.loc[adata.obs_names, :]   \n",
    "adata.obs['batch']=np.array(adata.obs['batch'],dtype=str)"
   ]
  },
  {
   "cell_type": "code",
   "execution_count": 3,
   "id": "41768d51",
   "metadata": {},
   "outputs": [
    {
     "name": "stderr",
     "output_type": "stream",
     "text": [
      "/home/tguo/tguo2/miniconda3/envs/stnet/lib/python3.6/site-packages/ipykernel_launcher.py:54: SettingWithCopyWarning: \n",
      "A value is trying to be set on a copy of a slice from a DataFrame\n",
      "\n",
      "See the caveats in the documentation: https://pandas.pydata.org/pandas-docs/stable/user_guide/indexing.html#returning-a-view-versus-a-copy\n",
      "/home/tguo/tguo2/miniconda3/envs/stnet/lib/python3.6/site-packages/ipykernel_launcher.py:55: SettingWithCopyWarning: \n",
      "A value is trying to be set on a copy of a slice from a DataFrame\n",
      "\n",
      "See the caveats in the documentation: https://pandas.pydata.org/pandas-docs/stable/user_guide/indexing.html#returning-a-view-versus-a-copy\n",
      "/home/tguo/tguo2/miniconda3/envs/stnet/lib/python3.6/site-packages/ipykernel_launcher.py:56: SettingWithCopyWarning: \n",
      "A value is trying to be set on a copy of a slice from a DataFrame\n",
      "\n",
      "See the caveats in the documentation: https://pandas.pydata.org/pandas-docs/stable/user_guide/indexing.html#returning-a-view-versus-a-copy\n",
      "/home/tguo/tguo2/miniconda3/envs/stnet/lib/python3.6/site-packages/ipykernel_launcher.py:57: SettingWithCopyWarning: \n",
      "A value is trying to be set on a copy of a slice from a DataFrame\n",
      "\n",
      "See the caveats in the documentation: https://pandas.pydata.org/pandas-docs/stable/user_guide/indexing.html#returning-a-view-versus-a-copy\n",
      "/home/tguo/tguo2/miniconda3/envs/stnet/lib/python3.6/site-packages/ipykernel_launcher.py:58: SettingWithCopyWarning: \n",
      "A value is trying to be set on a copy of a slice from a DataFrame\n",
      "\n",
      "See the caveats in the documentation: https://pandas.pydata.org/pandas-docs/stable/user_guide/indexing.html#returning-a-view-versus-a-copy\n",
      "/home/tguo/tguo2/miniconda3/envs/stnet/lib/python3.6/site-packages/ipykernel_launcher.py:59: SettingWithCopyWarning: \n",
      "A value is trying to be set on a copy of a slice from a DataFrame\n",
      "\n",
      "See the caveats in the documentation: https://pandas.pydata.org/pandas-docs/stable/user_guide/indexing.html#returning-a-view-versus-a-copy\n"
     ]
    }
   ],
   "source": [
    "embed1=pd.read_csv(dirs+'gtt_output/AGC_embed'+flags+\"_xent_1024.csv\",header=0,index_col=0,sep=',')\n",
    "embed2=pd.read_csv(dirs+'methods/seurat_mat'+flags+\".txt\",header=0,index_col=0,sep=',')\n",
    "embed3=pd.read_csv(dirs+'methods/harmony_mat'+flags+\".txt\",header=0,index_col=0,sep=',')\n",
    "embed4=pd.read_csv(dirs+'methods/harmony_SEDR_mat'+flags+\".txt\",header=0,index_col=0,sep=',')\n",
    "embed5=pd.read_csv(dirs+'methods/harmony_STAGATE_mat'+flags+\".txt\",header=0,index_col=0,sep=',')\n",
    "embed6=pd.read_csv(dirs+'methods/STAligner_mat'+flags+\".txt\",header=0,index_col=0,sep=',')\n",
    "embed7=pd.read_csv(dirs+'methods/DeepST_mat'+flags+\".txt\",header=0,index_col=0,sep=',')\n",
    "embed8=pd.read_csv(dirs+'methods/GraphST_mat'+flags+\".txt\",header=0,index_col=0,sep=',')\n",
    "znoise_dim=0\n",
    "if embed1.shape[1]==16:\n",
    "    znoise_dim=2\n",
    "else:\n",
    "    znoise_dim=4\n",
    "\n",
    "adata.obsm['SPIRAL']=embed1.loc[adata.obs_names,].values[:,znoise_dim:embed1.shape[1]]\n",
    "adata.obsm['seurat']=embed2.loc[adata.obs_names,].values\n",
    "adata.obsm['harmony']=embed3.loc[adata.obs_names,].values\n",
    "adata.obsm['harmony_SEDR']=embed4.loc[adata.obs_names,].values\n",
    "adata.obsm['harmony_STAGATE']=embed5.loc[adata.obs_names,].values\n",
    "adata.obsm['STAligner']=embed6.loc[adata.obs_names,].values\n",
    "adata.obsm['DeepST']=embed7.loc[adata.obs_names,].values\n",
    "adata.obsm['GraphST']=embed8.loc[adata.obs_names,].values\n",
    "\n",
    "# # clust1=pd.read_csv(dirs+'metrics/mclust_clust'+flags+\".csv\",header=0,index_col=0,sep=',')\n",
    "# # clust2=pd.read_csv(dirs+'metrics/seurat_mclust_clust'+flags+\".csv\",header=0,index_col=0,sep=',')\n",
    "# # clust3=pd.read_csv(dirs+'metrics/harmony_mclust_clust'+flags+\".csv\",header=0,index_col=0,sep=',')\n",
    "# # clust4=pd.read_csv(dirs+'metrics/SEDR_mclust_clust'+flags+\".csv\",header=0,index_col=0,sep=',')\n",
    "# # clust5=pd.read_csv(dirs+'metrics/STAGATE_mclust_clust'+flags+\".csv\",header=0,index_col=0,sep=',')\n",
    "# # adata.obs['GraphSCIDRL_clust']=clust1.loc[feat.index,]\n",
    "# # adata.obs['seurat_clust']=clust2.loc[feat.index,]\n",
    "# # adata.obs['harmony_clust']=clust3.loc[feat.index,]\n",
    "# # adata.obs['harmony_SEDR_clust']=clust4.loc[feat.index,]\n",
    "# # adata.obs['harmony_STAGATE_clust']=clust5.loc[feat.index,]\n",
    "\n",
    "# umap1=pd.read_csv(dirs+\"umap/GraphSCIDRL\"+flags+\"_umap.csv\",header=0,index_col=0,sep=',')\n",
    "# umap2=pd.read_csv(dirs+\"umap/seurat\"+flags+\"_umap.csv\",header=0,index_col=0,sep=',')\n",
    "# umap3=pd.read_csv(dirs+\"umap/harmony\"+flags+\"_umap.csv\",header=0,index_col=0,sep=',')\n",
    "# umap4=pd.read_csv(dirs+\"umap/harmony_SEDR\"+flags+\"_umap.csv\",header=0,index_col=0,sep=',')\n",
    "# umap5=pd.read_csv(dirs+\"umap/harmony_STAGATE\"+flags+\"_umap.csv\",header=0,index_col=0,sep=',')\n",
    "# umap6=pd.read_csv(dirs+\"umap/STAligner\"+flags+\"_umap.csv\",header=0,index_col=0,sep=',')\n",
    "# umap7=pd.read_csv(dirs+\"umap/DeepST\"+flags+\"_umap.csv\",header=0,index_col=0,sep=',')\n",
    "# umap8=pd.read_csv(dirs+\"umap/GraphST\"+flags+\"_umap.csv\",header=0,index_col=0,sep=',')\n",
    "\n",
    "# adata.obsm['SPIRAL_umap']=umap1.loc[feat.index,].values\n",
    "# adata.obsm['seurat_umap']=umap2.loc[feat.index,].values\n",
    "# adata.obsm['harmony_umap']=umap3.loc[feat.index,].values\n",
    "# adata.obsm['harmony_SEDR_umap']=umap4.loc[feat.index,].values\n",
    "# adata.obsm['harmony_STAGATE_umap']=umap5.loc[feat.index,].values\n",
    "# adata.obsm['STAligner_umap']=umap6.loc[feat.index,].values\n",
    "# adata.obsm['DeepST_SEDR_umap']=umap7.loc[feat.index,].values\n",
    "# adata.obsm['GraphST_umap']=umap8.loc[feat.index,].values\n",
    "\n",
    "adata.obs['celltype_1']=1\n",
    "adata.obs['celltype_1'][adata.obs['celltype']=='L2']=2\n",
    "adata.obs['celltype_1'][adata.obs['celltype']=='L3']=3\n",
    "adata.obs['celltype_1'][adata.obs['celltype']=='L4']=4\n",
    "adata.obs['celltype_1'][adata.obs['celltype']=='L5']=5\n",
    "adata.obs['celltype_1'][adata.obs['celltype']=='L6']=6\n",
    "adata.obs['celltype_1'][adata.obs['celltype']=='WM']=7"
   ]
  },
  {
   "cell_type": "code",
   "execution_count": 4,
   "id": "6b04cd5d",
   "metadata": {},
   "outputs": [
    {
     "name": "stderr",
     "output_type": "stream",
     "text": [
      "/home/tguo/tguo2/miniconda3/envs/stnet/lib/python3.6/site-packages/numba/np/ufunc/parallel.py:365: NumbaWarning: The TBB threading layer requires TBB version 2019.5 or later i.e., TBB_INTERFACE_VERSION >= 11005. Found TBB_INTERFACE_VERSION = 6103. The TBB threading layer is disabled.\n",
      "  warnings.warn(problem)\n"
     ]
    }
   ],
   "source": [
    "# method='orgin'\n",
    "for method in methods: \n",
    "    sc.pp.neighbors(adata, use_rep=method)\n",
    "    sc.tl.diffmap(adata, n_comps=15)\n",
    "    # adata.obsm['X_diffmap']=adata.obsm[method+'_umap']\n",
    "    sc.pp.neighbors(adata, n_neighbors=15, use_rep='X_diffmap')\n",
    "    # sc.tl.paga(adata, groups='celltype')\n",
    "    # sc.pl.paga(adata,threshold=0.0)\n",
    "    # sc.tl.draw_graph(adata, init_pos='paga')\n",
    "    adata.uns['iroot'] = np.flatnonzero(adata.obs['celltype']  == 'L1')[0]\n",
    "    sc.tl.dpt(adata,n_dcs=10)\n",
    "    adata.obs[method+'_dpt_pseudotime']=adata.obs['dpt_pseudotime']"
   ]
  },
  {
   "cell_type": "code",
   "execution_count": 7,
   "id": "a3c8d9ea",
   "metadata": {},
   "outputs": [],
   "source": [
    "pea=[]\n",
    "spe=[]\n",
    "for method in methods:\n",
    "    pea.append(sp.stats.pearsonr(adata.obs[method+'_dpt_pseudotime'],adata.obs['celltype_1'])[0])\n",
    "    spe.append(sp.stats.spearmanr(adata.obs[method+'_dpt_pseudotime'],adata.obs['celltype_1'])[0])\n",
    "pea=np.array(pea).reshape(len(methods),1)\n",
    "spe=np.array(spe).reshape(len(methods),1)\n",
    "stat=np.hstack((pea,spe,np.array(methods).reshape(-1,1)))\n",
    "\n",
    "pse=pd.DataFrame(stat,columns=['pearson','spearman','method'])\n",
    "pse.to_csv(dirs+'metrics/pseudotime_stats'+flags+'_modify.csv')"
   ]
  },
  {
   "cell_type": "code",
   "execution_count": null,
   "id": "78a2bb3f",
   "metadata": {},
   "outputs": [],
   "source": []
  }
 ],
 "metadata": {
  "kernelspec": {
   "display_name": "torch",
   "language": "python",
   "name": "torch"
  },
  "language_info": {
   "codemirror_mode": {
    "name": "ipython",
    "version": 3
   },
   "file_extension": ".py",
   "mimetype": "text/x-python",
   "name": "python",
   "nbconvert_exporter": "python",
   "pygments_lexer": "ipython3",
   "version": "3.6.13"
  }
 },
 "nbformat": 4,
 "nbformat_minor": 5
}
