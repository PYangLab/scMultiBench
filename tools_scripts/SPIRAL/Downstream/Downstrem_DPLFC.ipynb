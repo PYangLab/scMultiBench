{
 "cells": [
  {
   "cell_type": "code",
   "execution_count": 1,
   "id": "56e489db",
   "metadata": {
    "scrolled": true
   },
   "outputs": [
    {
     "name": "stderr",
     "output_type": "stream",
     "text": [
      "Registered S3 method overwritten by 'spatstat.geom':\n",
      "  method     from\n",
      "  print.boxx cli \n",
      "\n",
      "Attaching SeuratObject\n",
      "\n",
      "\n",
      "Attaching package: ‘aricode’\n",
      "\n",
      "\n",
      "The following object is masked from ‘package:FNN’:\n",
      "\n",
      "    entropy\n",
      "\n",
      "\n",
      "Loading required package: sp\n",
      "\n",
      "Loading required package: spData\n",
      "\n",
      "To access larger datasets in this package, install the spDataLarge\n",
      "package with: `install.packages('spDataLarge',\n",
      "repos='https://nowosad.github.io/drat/', type='source')`\n",
      "\n",
      "Loading required package: sf\n",
      "\n",
      "Linking to GEOS 3.9.1, GDAL 3.3.2, PROJ 8.1.1; sf_use_s2() is TRUE\n",
      "\n",
      "Registered S3 method overwritten by 'spdep':\n",
      "  method   from\n",
      "  plot.mst ape \n",
      "\n",
      "Loading required package: AnnotationDbi\n",
      "\n",
      "Loading required package: stats4\n",
      "\n",
      "Loading required package: BiocGenerics\n",
      "\n",
      "\n",
      "Attaching package: ‘BiocGenerics’\n",
      "\n",
      "\n",
      "The following objects are masked from ‘package:stats’:\n",
      "\n",
      "    IQR, mad, sd, var, xtabs\n",
      "\n",
      "\n",
      "The following objects are masked from ‘package:base’:\n",
      "\n",
      "    anyDuplicated, append, as.data.frame, basename, cbind, colnames,\n",
      "    dirname, do.call, duplicated, eval, evalq, Filter, Find, get, grep,\n",
      "    grepl, intersect, is.unsorted, lapply, Map, mapply, match, mget,\n",
      "    order, paste, pmax, pmax.int, pmin, pmin.int, Position, rank,\n",
      "    rbind, Reduce, rownames, sapply, setdiff, sort, table, tapply,\n",
      "    union, unique, unsplit, which.max, which.min\n",
      "\n",
      "\n",
      "Loading required package: Biobase\n",
      "\n",
      "Welcome to Bioconductor\n",
      "\n",
      "    Vignettes contain introductory material; view with\n",
      "    'browseVignettes()'. To cite Bioconductor, see\n",
      "    'citation(\"Biobase\")', and for packages 'citation(\"pkgname\")'.\n",
      "\n",
      "\n",
      "Loading required package: IRanges\n",
      "\n",
      "Loading required package: S4Vectors\n",
      "\n",
      "\n",
      "Attaching package: ‘S4Vectors’\n",
      "\n",
      "\n",
      "The following objects are masked from ‘package:base’:\n",
      "\n",
      "    expand.grid, I, unname\n",
      "\n",
      "\n",
      "\n",
      "Attaching package: ‘IRanges’\n",
      "\n",
      "\n",
      "The following object is masked from ‘package:sp’:\n",
      "\n",
      "    %over%\n",
      "\n",
      "\n",
      "\n",
      "\n",
      "Loading required package: graph\n",
      "\n",
      "\n",
      "Attaching package: ‘graph’\n",
      "\n",
      "\n",
      "The following objects are masked from ‘package:ape’:\n",
      "\n",
      "    complement, degree, edges\n",
      "\n",
      "\n",
      "Loading required package: GO.db\n",
      "\n",
      "\n",
      "\n",
      "Loading required package: SparseM\n",
      "\n",
      "\n",
      "Attaching package: ‘SparseM’\n",
      "\n",
      "\n",
      "The following object is masked from ‘package:base’:\n",
      "\n",
      "    backsolve\n",
      "\n",
      "\n",
      "\n",
      "groupGOTerms: \tGOBPTerm, GOMFTerm, GOCCTerm environments built.\n",
      "\n",
      "\n",
      "Attaching package: ‘topGO’\n",
      "\n",
      "\n",
      "The following object is masked from ‘package:IRanges’:\n",
      "\n",
      "    members\n",
      "\n",
      "\n",
      "Registered S3 method overwritten by 'ggforce':\n",
      "  method           from \n",
      "  scale_type.units units\n",
      "\n",
      "Registered S3 method overwritten by 'ggtree':\n",
      "  method      from \n",
      "  identify.gg ggfun\n",
      "\n",
      "clusterProfiler v4.0.5  For help: https://yulab-smu.top/biomedical-knowledge-mining-book/\n",
      "\n",
      "If you use clusterProfiler in published research, please cite:\n",
      "T Wu, E Hu, S Xu, M Chen, P Guo, Z Dai, T Feng, L Zhou, W Tang, L Zhan, X Fu, S Liu, X Bo, and G Yu. clusterProfiler 4.0: A universal enrichment tool for interpreting omics data. The Innovation. 2021, 2(3):100141. doi: 10.1016/j.xinn.2021.100141\n",
      "\n",
      "\n",
      "Attaching package: ‘clusterProfiler’\n",
      "\n",
      "\n",
      "The following object is masked from ‘package:AnnotationDbi’:\n",
      "\n",
      "    select\n",
      "\n",
      "\n",
      "The following object is masked from ‘package:IRanges’:\n",
      "\n",
      "    slice\n",
      "\n",
      "\n",
      "The following object is masked from ‘package:S4Vectors’:\n",
      "\n",
      "    rename\n",
      "\n",
      "\n",
      "The following object is masked from ‘package:stats’:\n",
      "\n",
      "    filter\n",
      "\n",
      "\n"
     ]
    }
   ],
   "source": [
    "library(Seurat)\n",
    "library(ggplot2)\n",
    "library(ggsci)\n",
    "library(ggthemr)\n",
    "library(readxl)\n",
    "library(FNN)\n",
    "library(ape)\n",
    "library(stats)\n",
    "library(aricode)\n",
    "library(spdep)\n",
    "library(org.Hs.eg.db)\n",
    "library(topGO)\n",
    "library(clusterProfiler)\n",
    "dirs=\"/data02/tguo/space_batch_effect/human_DLPFC_10x/\""
   ]
  },
  {
   "cell_type": "code",
   "execution_count": null,
   "id": "94b0c06b",
   "metadata": {},
   "outputs": [],
   "source": [
    "dirs=\"/data02/tguo/space_batch_effect/human_DLPFC_10x/\"\n",
    "sample_name=c(151507,151508,151509,151510,151669,151670,151671,151672,151673,151674,151675,151676)\n",
    "samples=sample_name\n",
    "flags1=samples[1]\n",
    "for(i in 2:length(samples)){flags1=paste(flags1,'-',samples[i],sep=\"\")}\n",
    "    \n",
    "feat=read.csv(paste(dirs,\"gtt_input_scanpy/\",flags1,'_',samples[1],\"_features.txt\",sep=\"\"),header=T,row.names=1)\n",
    "meta=read.csv(paste(dirs,\"gtt_input_scanpy/\",flags1,'_',samples[1],\"_label.txt\",sep=\"\"),header=T,row.names=1)\n",
    "coord=read.csv(paste(dirs,\"gtt_input_scanpy/\",flags1,'_',samples[1],\"_positions.txt\",sep=\"\"),header=T,row.names=1)\n",
    "flags=paste('_',samples[1],sep=\"\")\n",
    "for(i in 2:length(samples)){\n",
    "    feat=rbind(feat,read.csv(paste(dirs,\"gtt_input_scanpy/\",flags1,'_',samples[i],\"_features.txt\",sep=\"\"),header=T,row.names=1))\n",
    "    meta=rbind(meta,read.csv(paste(dirs,\"gtt_input_scanpy/\",flags1,'_',samples[i],\"_label.txt\",sep=\"\"),header=T,row.names=1))\n",
    "    coord=rbind(coord,read.csv(paste(dirs,\"gtt_input_scanpy/\",flags1,'_',samples[i],\"_positions.txt\",sep=\"\"),header=T,row.names=1))\n",
    "    flags=paste(flags,'_',samples[i],sep=\"\")\n",
    "}\n",
    "celltype=meta[,1]\n",
    "batch=meta[,2]\n",
    "ub=unique(batch)\n",
    "\n",
    "coord_new=read.csv(paste(dirs,\"gtt_output/coordinate_file/gtt_new_coordinate\",flags,\"_mclust.csv\",sep=\"\"),header=T,row.names=1)\n",
    "embed=read.csv(paste(dirs,\"gtt_output/AGC_embed\",flags,\"_xent.csv\",sep=\"\"),header=T,row.names=1)\n",
    "xbar_new=read.csv(paste(dirs,\"gtt_output/AGC_exp_corrected0\",flags,\"_xent.csv\",sep=\"\"),header=T,row.names=1)\n",
    "umap_mat=read.csv(paste(dirs,\"umap/GraphSCIDRL\",flags,\"_umap.csv\",sep=\"\"),header=T,row.names=1)\n",
    "leiden_clust=read.csv(paste(dirs,'metrics/leiden_clust',flags,'.csv',sep=\"\"),header=T,row.names=1)\n",
    "mclust_clust=read.csv(paste(dirs,'metrics/mclust_clust',flags,'.csv',sep=\"\"),header=T,row.names=1)\n",
    "louvain_clust=read.csv(paste(dirs,'metrics/louvain_clust',flags,'.csv',sep=\"\"),header=T,row.names=1)\n",
    "clust=mclust_clust\n",
    "clust[,1]=as.character(clust[,1])\n",
    "if(dim(embed)[2]==16){\n",
    "    znoise_dim=3\n",
    "}else{\n",
    "    znoise_dim=5\n",
    "}\n",
    "idx=list()\n",
    "for(i in 1:length(ub)){\n",
    "    idx[[i]]=which(batch==ub[i])\n",
    "}\n",
    "seurat_mat=read.csv(paste(dirs,\"methods/seurat_expression\",flags,\".txt\",sep=\"\"),header=T,row.names=1)   \n",
    "# # uc1=c('7','4','6','1','3','2','5')\n",
    "uc1=c('7','4','1','6','2','5','3')\n",
    "uc2=c('L1','L2','L4','L3','L6','WM','L5')\n",
    "colors=data.frame(ggsci:::ggsci_db$\"npg\")[,1]"
   ]
  },
  {
   "cell_type": "code",
   "execution_count": null,
   "id": "59801d3e",
   "metadata": {},
   "outputs": [],
   "source": [
    "generate_obj<-function(X,coord,meta,embed,clust){\n",
    "    X<-as(t(X),'dgCMatrix')\n",
    "    dl<-CreateSeuratObject(counts=X,min.cells=0, min.features=0,meta.data=meta)\n",
    "    VariableFeatures(dl)<-rownames(dl)\n",
    "    dl@assays$RNA@scale.data=as.matrix(X)\n",
    "    dl@images$image <- new(Class = 'SlideSeq',assay = \"Spatial\",key = \"image_\",coordinates=coord[colnames(X),])\n",
    "    dl[['umap']]<-CreateDimReducObject(embeddings=as.matrix(umap_mat[colnames(X),]), key = \"umap_\", assay=DefaultAssay(dl))\n",
    "    dl[['gtt']]<-CreateDimReducObject(embeddings=as.matrix(embed[colnames(X),znoise_dim:dim(embed)[2]]), key = \"gtt_\", assay=DefaultAssay(dl))\n",
    "    dl$gtt_clusters=clust[colnames(X),]\n",
    "    return(dl)\n",
    "}\n",
    "dl_org=generate_obj(feat[rownames(clust),],coord[rownames(clust),],meta[rownames(clust),],embed[rownames(clust),],clust)\n",
    "dl_re=generate_obj(xbar_new[rownames(clust),],coord[rownames(clust),],meta[rownames(clust),],embed[rownames(clust),],clust)\n",
    "dl_seurat=generate_obj(seurat_mat[rownames(clust),],coord[rownames(clust),],meta[rownames(clust),],embed[rownames(clust),],clust)\n",
    "\n",
    "############################\n",
    "dl_org$gtt_clusters<-factor(as.character(dl_org$gtt_clusters),levels=uc1)\n",
    "dl_re$gtt_clusters<-factor(as.character(dl_re$gtt_clusters),levels=uc1)\n",
    "dl_seurat$gtt_clusters<-factor(as.character(dl_seurat$gtt_clusters),levels=uc1)\n",
    "\n",
    "dl_org$celltype<-factor(dl_org$celltype,levels=uc2)\n",
    "dl_re$celltype<-factor(dl_re$celltype,levels=uc2)\n",
    "dl_seurat$celltype<-factor(dl_seurat$celltype,levels=uc2)"
   ]
  },
  {
   "cell_type": "code",
   "execution_count": 6,
   "id": "1866d9c4",
   "metadata": {},
   "outputs": [],
   "source": [
    "####marker gene的空间连续性:Moran.I######\n",
    "get_moran<-function(pos,exp,batch,marker,knn){\n",
    "    knnindex=get.knn(pos, k=knn)$nn.index\n",
    "    weight=matrix(0,nrow=dim(pos)[1],ncol=dim(pos)[1])\n",
    "    for(i in 1:dim(pos)[1]){\n",
    "        weight[i,knnindex[i,]]=1\n",
    "    }\n",
    "    moran=data.frame(moran=0,geary=0,batch=batch)\n",
    "    for(marker_id in 1:length(marker)){\n",
    "        marker_exp=exp@assays$RNA@data[marker[marker_id],]\n",
    "        a=Moran.I(as.vector(marker_exp), weight, scaled = T)$observed\n",
    "        b=as.numeric(geary.test(as.vector(marker_exp),mat2listw(weight))$estimate[1])\n",
    "        moran=rbind(moran,data.frame(moran=a,geary=b,batch=batch))\n",
    "    }\n",
    "    moran<-moran[-1,]\n",
    "    rownames(moran)<-marker\n",
    "    return(moran)\n",
    "}"
   ]
  },
  {
   "cell_type": "code",
   "execution_count": 8,
   "id": "ce9b6f70",
   "metadata": {},
   "outputs": [],
   "source": [
    "marker=c('FABP7','AQP4','RELN','HPCAL1','ENC1','ADCYAP1','FREM3','RORB','PVALB','TRABD2A','PCP4','BCL11B',\n",
    "        'NTNG2','KRT17','MOBP','MBP')\n",
    "# marker=unique(marker_org1[,7])\n",
    "knn=6\n",
    "k=1\n",
    "coord1=dl_org@images$image@coordinates[dl_org$batch==ub[k],]\n",
    "dl_org1=subset(dl_org,subset=batch==ub[k])\n",
    "moran_org=get_moran(coord1,dl_org1,ub[k],marker,knn)\n",
    "for(k in 2:length(ub)){\n",
    "    coord1=dl_org@images$image@coordinates[dl_org$batch==ub[k],]\n",
    "    dl_org1=subset(dl_org,subset=batch==ub[k])\n",
    "    moran_org<-rbind(moran_org,get_moran(coord1,dl_org1,ub[k],marker,knn))\n",
    "}\n",
    "\n",
    "# # marker=unique(marker_re1[,7])\n",
    "# knn=6\n",
    "# k=1\n",
    "# coord1=dl_re@images$image@coordinates[dl_re$batch==ub[k],]\n",
    "# dl_re1=subset(dl_re,subset=batch==ub[k])\n",
    "# moran_re=get_moran(coord1,dl_re1,ub[k],marker,knn)\n",
    "# for(k in 2:length(ub)){\n",
    "#     coord1=dl_re@images$image@coordinates[dl_re$batch==ub[k],]\n",
    "#     dl_re1=subset(dl_re,subset=batch==ub[k])\n",
    "#     moran_re<-rbind(moran_re,get_moran(coord1,dl_re1,ub[k],marker,knn))\n",
    "# }\n",
    "\n",
    "\n",
    "# # marker=unique(marker_seurat1[,7])\n",
    "# knn=6\n",
    "# k=1\n",
    "# coord1=dl_seurat@images$image@coordinates[dl_seurat$batch==ub[k],]\n",
    "# dl_seurat1=subset(dl_seurat,subset=batch==ub[k])\n",
    "# moran_seurat=get_moran(coord1,dl_seurat1,ub[k],marker,knn)\n",
    "# for(k in 2:length(ub)){\n",
    "#     coord1=dl_seurat@images$image@coordinates[dl_seurat$batch==ub[k],]\n",
    "#     dl_seurat1=subset(dl_seurat,subset=batch==ub[k])\n",
    "#     moran_seurat<-rbind(moran_seurat,get_moran(coord1,dl_seurat1,ub[k],marker,knn))\n",
    "# }\n",
    "\n",
    "# knn=6\n",
    "# moran_new=get_moran(coord_new[colnames(dl_re@assays$RNA@data),c('x','y')],dl_re,'all',marker,knn)\n",
    "# moran_new$method='GraphSCIDRL_RCP'\n",
    "\n",
    "knn=6\n",
    "moran_new1=get_moran(coord_new[colnames(dl_org@assays$RNA@data),c('x','y')],dl_org,'all',marker,knn)\n",
    "moran_new1$method='Raw_RCP'\n",
    "\n",
    "# moran_org$method='Raw'\n",
    "# moran_re$method='GraphSCIDRL'\n",
    "# moran_seurat$method='seurat'\n",
    "# moran=rbind(rbind(rbind(rbind(moran_org,moran_re),moran_seurat),moran_new),moran_new1)\n",
    "# write.csv(moran,paste(dirs,'markers/moran_stat_marker.csv',sep=''))\n",
    "\n",
    "# moran$geary=1-moran$geary\n",
    "# moran$gene<-marker\n",
    "# moran1<-aggregate(moran$moran,list(moran$method,moran$gene),'mean')\n",
    "# colnames(moran1)<-c('method','gene','score')\n",
    "# moran2<-aggregate(moran$geary,list(moran$method,moran$gene),'mean')\n",
    "# colnames(moran2)<-c('method','gene','score')\n",
    "# moran1$stats=\"Moran's I\"\n",
    "# moran2$stats<-\"Geary's C\"\n",
    "# data<-rbind(moran1,moran2)\n",
    "# data$method<-factor(data$method,levels=c('GraphSCIDRL','GraphSCIDRL_RCP','Raw_RCP','Raw','seurat'))"
   ]
  },
  {
   "cell_type": "code",
   "execution_count": 3,
   "id": "427119aa",
   "metadata": {},
   "outputs": [],
   "source": [
    "moran=read.csv(paste(dirs,'markers/moran_stat_marker.csv',sep=''))\n",
    "marker=c('FABP7','AQP4','RELN','HPCAL1','ENC1','ADCYAP1','FREM3','RORB','PVALB','TRABD2A','PCP4','BCL11B',\n",
    "        'NTNG2','KRT17','MOBP','MBP')\n",
    "moran$geary=1-moran$geary\n",
    "moran$gene<-marker\n",
    "moran1<-aggregate(moran$moran,list(moran$method,moran$gene),'mean')\n",
    "colnames(moran1)<-c('method','gene','score')\n",
    "moran2<-aggregate(moran$geary,list(moran$method,moran$gene),'mean')\n",
    "colnames(moran2)<-c('method','gene','score')\n",
    "moran1$stats=\"Moran's I\"\n",
    "moran2$stats<-\"Geary's C\"\n",
    "data<-rbind(moran1,moran2)\n",
    "data$method<-factor(data$method,levels=c('GraphSCIDRL','GraphSCIDRL_RCP','Raw_RCP','Raw','seurat'))\n",
    "data$method=as.character(data$method)\n",
    "data$method[data$method=='GraphSCIDRL']='SPIRAL'\n",
    "data$method[data$method=='GraphSCIDRL_RCP']='SPIRAL_AC'\n",
    "data$method[data$method=='Raw_RCP']='Raw_AC'"
   ]
  },
  {
   "cell_type": "code",
   "execution_count": 7,
   "id": "a96a7a44",
   "metadata": {},
   "outputs": [
    {
     "data": {
      "text/html": [
       "<strong>png:</strong> 2"
      ],
      "text/latex": [
       "\\textbf{png:} 2"
      ],
      "text/markdown": [
       "**png:** 2"
      ],
      "text/plain": [
       "png \n",
       "  2 "
      ]
     },
     "metadata": {},
     "output_type": "display_data"
    }
   ],
   "source": [
    "color_used=data.frame(ggsci:::ggsci_db$\"npg\")[,1]\n",
    "png(paste(dirs,'fig/marker_moran_geary_stat.png',sep=\"\"),width=1200,height=900,res=500)\n",
    "p<-ggplot(data,aes(x=stats,y=score,fill=method))+geom_boxplot(outlier.shape=16,outlier.size=0.01,lwd=0.1)+\n",
    "# scale_fill_npg()+\n",
    "scale_fill_manual(values=color_used)+\n",
    "labs(title=\"Sptail autocorrelation\")+xlab('')+ylab(\"\")+theme_bw()+\n",
    "theme(axis.text.x=element_text(size=5.5, face=\"bold\",colour = \"black\",angle=0),\n",
    "      axis.text.y=element_text(size=5.5, face=\"bold\",colour = \"black\"),\n",
    "      axis.title.x=element_blank(),\n",
    "      axis.title.y=element_blank(),\n",
    "      plot.title=element_blank(),\n",
    "      legend.text=element_text(size=5.5, colour = \"black\",face=\"bold\"),\n",
    "#       legend.title=element_text(size=4, colour = \"black\",face=\"bold\"),\n",
    "      legend.title=element_blank(),\n",
    "      panel.border = element_blank(),\n",
    "      panel.grid.major=element_blank(),\n",
    "      panel.grid.minor=element_blank(),\n",
    "      axis.line=element_line(size=0.3, colour = \"black\"),\n",
    "      axis.ticks=element_line(size=0.3, colour = \"black\"),\n",
    "     legend.position=\"top\",\n",
    "     legend.spacing.y = unit(0.05, 'cm'),\n",
    "      legend.spacing.x = unit(0.05, 'cm'),\n",
    "     legend.key.size = unit(0.1, 'cm'), \n",
    "     legend.key.height = unit(0.1, 'cm'),\n",
    "     legend.key.width = unit(0.1, 'cm'),\n",
    "      legend.box.margin=margin(-8,-8,-8,-8),\n",
    "      strip.text = element_text(size = 5,face=\"bold\",colour = \"black\"),\n",
    "      strip.background=element_blank())\n",
    "print(p)\n",
    "dev.off()"
   ]
  },
  {
   "cell_type": "code",
   "execution_count": 76,
   "id": "15b16f01",
   "metadata": {},
   "outputs": [],
   "source": [
    "# Idents(dl_re)<-dl_re$celltype\n",
    "# marker_re<-FindAllMarkers(dl_re,only.pos = TRUE,logfc.threshold = 0.0,min.pct = 0.1,test.use = 'wilcox',\n",
    "#                            min.cells.feature=0,min.cells.group=0)\n",
    "# write.csv(marker_re,paste(dirs,\"marker/marker_gtt\",flags,\".csv\",sep=\"\"))\n",
    "# marker_re1=marker_re[marker_re$p_val_adj<0.01,]\n",
    "# marker_re1=marker_re1[marker_re1$avg_log2FC>0.02,]\n",
    "\n",
    "# Idents(dl_org)<-dl_org$celltype\n",
    "# marker_org<-FindAllMarkers(dl_org,only.pos = TRUE,logfc.threshold = 0.0,min.pct = 0.1,test.use = 'wilcox',\n",
    "#                            min.cells.feature=0,min.cells.group=0)\n",
    "# write.csv(marker_org,paste(dirs,\"markers/marker_origin\",flags,\".csv\",sep=\"\"))\n",
    "# marker_org1=marker_org[marker_org$p_val_adj<0.01,]\n",
    "# marker_org1=marker_org1[marker_org1$avg_log2FC>0.1,]\n",
    "\n",
    "# Idents(dl_re)<-dl_re$gtt_clusters\n",
    "# marker_re_clust<-FindAllMarkers(dl_re,only.pos = TRUE,logfc.threshold = 0.0,min.pct = 0.1,test.use = 'wilcox',\n",
    "#                            min.cells.feature=0,min.cells.group=0)\n",
    "# write.csv(marker_re_clust,paste(dirs,\"markers/marker_gtt\",flags,\"_clust.csv\",sep=\"\"))\n",
    "# marker_re1_clust=marker_re_clust[marker_re_clust$p_val_adj<0.01,]\n",
    "# marker_re1_clust=marker_re1_clust[marker_re1_clust$avg_log2FC>0.02,]"
   ]
  },
  {
   "cell_type": "code",
   "execution_count": 6,
   "id": "d9903f80",
   "metadata": {},
   "outputs": [],
   "source": [
    "dirs=\"/data02/tguo/space_batch_effect/human_DLPFC_10x/\"\n",
    "sample_name=c(151507,151508,151509,151510,151669,151670,151671,151672,151673,151674,151675,151676)\n",
    "samples=sample_name\n",
    "flags=paste('_',samples[1],sep=\"\")\n",
    "for(i in 2:length(samples)){\n",
    "    flags=paste(flags,'_',samples[i],sep=\"\")\n",
    "}\n",
    "marker_re1_clust=read.csv(paste(dirs,\"markers/marker_gtt\",flags,\"_clust.csv\",sep=\"\"))\n",
    "marker_re1_clust=marker_re1_clust[marker_re1_clust$p_val_adj<0.01,]\n",
    "marker_re1_clust=marker_re1_clust[marker_re1_clust$avg_log2FC>0.02,]\n",
    "uc1=unique(marker_re1_clust$cluster)"
   ]
  },
  {
   "cell_type": "code",
   "execution_count": 13,
   "id": "f4d1651d",
   "metadata": {
    "collapsed": true
   },
   "outputs": [
    {
     "name": "stderr",
     "output_type": "stream",
     "text": [
      "'select()' returned 1:many mapping between keys and columns\n",
      "\n",
      "Warning message in bitr(a, fromType = \"SYMBOL\", toType = c(\"ENSEMBL\", \"ENTREZID\"), :\n",
      "“5.41% of input gene IDs are fail to map...”\n",
      "'select()' returned 1:many mapping between keys and columns\n",
      "\n",
      "Warning message in bitr(a, fromType = \"SYMBOL\", toType = c(\"ENSEMBL\", \"ENTREZID\"), :\n",
      "“4.88% of input gene IDs are fail to map...”\n",
      "'select()' returned 1:many mapping between keys and columns\n",
      "\n",
      "Warning message in bitr(a, fromType = \"SYMBOL\", toType = c(\"ENSEMBL\", \"ENTREZID\"), :\n",
      "“3.36% of input gene IDs are fail to map...”\n",
      "'select()' returned 1:many mapping between keys and columns\n",
      "\n",
      "Warning message in bitr(a, fromType = \"SYMBOL\", toType = c(\"ENSEMBL\", \"ENTREZID\"), :\n",
      "“1.71% of input gene IDs are fail to map...”\n",
      "'select()' returned 1:many mapping between keys and columns\n",
      "\n",
      "Warning message in bitr(a, fromType = \"SYMBOL\", toType = c(\"ENSEMBL\", \"ENTREZID\"), :\n",
      "“2.7% of input gene IDs are fail to map...”\n",
      "'select()' returned 1:many mapping between keys and columns\n",
      "\n",
      "Warning message in bitr(a, fromType = \"SYMBOL\", toType = c(\"ENSEMBL\", \"ENTREZID\"), :\n",
      "“3.39% of input gene IDs are fail to map...”\n",
      "'select()' returned 1:many mapping between keys and columns\n",
      "\n",
      "Warning message in bitr(a, fromType = \"SYMBOL\", toType = c(\"ENSEMBL\", \"ENTREZID\"), :\n",
      "“4.6% of input gene IDs are fail to map...”\n"
     ]
    }
   ],
   "source": [
    "i=1\n",
    "GO=data.frame(cluster=0,des=0,ontology=0,qvalue=0)\n",
    "for(i in 1:length(uc1)){\n",
    "    a=marker_re1_clust[marker_re1_clust$cluster==uc1[i],8]\n",
    "    test1=bitr(a, fromType=\"SYMBOL\", toType=c(\"ENSEMBL\", \"ENTREZID\"), OrgDb=\"org.Hs.eg.db\")\n",
    "    ego_ALL7<-enrichGO(gene=test1$ENTREZID,OrgDb=org.Hs.eg.db,ont=\"ALL\",pAdjustMethod=\"BH\",qvalueCutoff=0.05,readable=TRUE)\n",
    "    en_go<-as.data.frame(ego_ALL7)\n",
    "    kk1<-enrichKEGG(gene=test1$ENTREZID,organism='hsa',qvalueCutoff = 0.05)\n",
    "    kk<-as.data.frame(kk1)\n",
    "    en_go1=en_go[en_go$ONTOLOGY=='BP',]\n",
    "    a=en_go1[order(en_go1$qvalue),c(3,8)]\n",
    "    GO=rbind(GO,data.frame(cluster=uc1[i],des=a[,1],ontology='BP',qvalue=a[,2]))\n",
    "    a=kk[order(kk$qvalue),c(2,7)]\n",
    "    GO=rbind(GO,data.frame(cluster=uc1[i],des=a[,1],ontology='KEGG',qvalue=a[,2]))\n",
    "}\n",
    "GO=GO[-1,]\n",
    "GO=GO[!is.na(GO$des),]\n",
    "GO$qvalue=-log10(GO$qvalue)"
   ]
  },
  {
   "cell_type": "code",
   "execution_count": 57,
   "id": "2e03004b",
   "metadata": {},
   "outputs": [
    {
     "data": {
      "text/html": [
       "<strong>png:</strong> 2"
      ],
      "text/latex": [
       "\\textbf{png:} 2"
      ],
      "text/markdown": [
       "**png:** 2"
      ],
      "text/plain": [
       "png \n",
       "  2 "
      ]
     },
     "metadata": {},
     "output_type": "display_data"
    }
   ],
   "source": [
    "uc1=c('7','4','1','6','2','5','3')\n",
    "colors=data.frame(ggsci:::ggsci_db$\"npg\")[,1]\n",
    "id=5\n",
    "clust=uc1[id]\n",
    "data=GO[GO$cluster==clust,]\n",
    "data=data[data$ontology=='BP',]\n",
    "png(paste(dirs,'fig/GO_',clust,'.png',sep=\"\"),width=2000,height=900,res=500)\n",
    "p<-ggplot(data,aes(x=reorder(des,qvalue),y=qvalue))+geom_bar(stat='identity',lwd=0.1,color='black',fill=colors[id])+coord_flip()+\n",
    "xlab('')+ylab('qvalue')+theme_bw()+\n",
    "theme(axis.text.x=element_text(size=3, face=\"bold\",colour = \"black\"),\n",
    "      axis.text.y=element_text(size=3, face=\"bold\",colour = \"black\"),\n",
    "#       axis.title.x=element_text(size=5,face=\"bold\", colour = \"black\"),\n",
    "      axis.title.x=element_blank(),\n",
    "      axis.title.y=element_text(size=5, face=\"bold\",colour = \"black\"),\n",
    "#       plot.title=element_text(face=\"bold\", size=5, colour = \"black\",hjust=0.5),\n",
    "      plot.title=element_blank(),\n",
    "      legend.text=element_text(size=4, colour = \"black\",face=\"bold\"),\n",
    "      legend.title=element_blank(),\n",
    "      panel.border = element_blank(),\n",
    "      panel.grid.major=element_blank(),\n",
    "      panel.grid.minor=element_blank(),\n",
    "      axis.line=element_line(size=0.3, colour = \"black\"),\n",
    "      axis.ticks=element_line(size=0.3, colour = \"black\"),\n",
    "     legend.position=\"top\",\n",
    "     legend.direction=\"vertical\",\n",
    "      legend.spacing.x = unit(0.05, 'cm'),\n",
    "     legend.key.size = unit(0.1, 'cm'), \n",
    "     legend.key.height = unit(0.1, 'cm'),\n",
    "     legend.key.width = unit(0.1, 'cm'),\n",
    "     legend.box.margin=margin(-12,-12,-12,-12),\n",
    "     strip.text = element_text(size = 5,face=\"bold\",colour = \"black\"),\n",
    "    strip.background=element_blank())+\n",
    "guides(fill=guide_legend(nrow=1,byrow=TRUE))\n",
    "print(p)\n",
    "dev.off()\n"
   ]
  },
  {
   "cell_type": "code",
   "execution_count": 11,
   "id": "2f43c1bf",
   "metadata": {
    "collapsed": true
   },
   "outputs": [
    {
     "ename": "ERROR",
     "evalue": "Error in intI(i, n = x@Dim[1], dn[[1]], give.dn = FALSE): invalid character indexing\n",
     "output_type": "error",
     "traceback": [
      "Error in intI(i, n = x@Dim[1], dn[[1]], give.dn = FALSE): invalid character indexing\nTraceback:\n",
      "1. data.frame(exp = dl_org@assays$RNA@data[genes, ], clust = dl_org$gtt_clusters)",
      "2. dl_org@assays$RNA@data[genes, ]",
      "3. dl_org@assays$RNA@data[genes, ]",
      "4. callGeneric(x, i = i, , drop = TRUE)",
      "5. eval(call, parent.frame())",
      "6. eval(call, parent.frame())",
      "7. x[i = i, , drop = TRUE]",
      "8. x[i = i, , drop = TRUE]",
      "9. subCsp_rows(x, i, drop = drop)",
      "10. intI(i, n = x@Dim[1], dn[[1]], give.dn = FALSE)",
      "11. stop(\"invalid character indexing\")"
     ]
    }
   ],
   "source": [
    "genes=c('FABP7','HPCAL1','ADCYAP1','PVALB','PCP4','KRT17','MOBP')\n",
    "genes=genes[8]\n",
    "xx=data.frame(exp=dl_org@assays$RNA@data[genes,],clust=dl_org$gtt_clusters)\n",
    "yy=aggregate(xx$exp,list(xx$clust),'mean')\n",
    "zz=order(yy[,2])\n",
    "idx=c()\n",
    "for(i in as.character(yy[zz,1])){\n",
    "    idx=c(idx,which(uc1==i))\n",
    "}\n",
    "color_used=colors[idx]\n",
    "\n",
    "pdf(paste(dirs,'fig/allsample_org_vlnplot_clusters_',genes,'.pdf',sep=\"\"),height=1.8,width=1.8,useDingbats=FALSE)\n",
    "p<-VlnPlot(dl_org,features=genes,group.by='gtt_clusters',sort='decreasing',pt.size=0,cols =color_used)+\n",
    "theme_bw()+ylab('Expression Level')+\n",
    "theme(axis.text.x=element_text(size=8, face=\"bold\",colour = \"black\"),\n",
    "      axis.text.y=element_text(size=8, face=\"bold\",colour = \"black\"),\n",
    "      axis.title.x=element_blank(),\n",
    "#       axis.title.y=element_text(size=10, face=\"bold\",colour = \"black\"),\n",
    "      axis.title.y=element_blank(),\n",
    "      plot.title=element_text(face=\"bold\", size=10, colour = \"black\",hjust=0.5),\n",
    "      legend.text=element_text(size=7, colour = \"black\"),\n",
    "      legend.title=element_text(size=8, colour = \"black\"),\n",
    "      panel.border = element_blank(),\n",
    "      panel.grid.major=element_blank(),\n",
    "      panel.grid.minor=element_blank(),\n",
    "      axis.line=element_line(size=0.3, colour = \"black\"),\n",
    "      axis.ticks=element_line(size=0.3, colour = \"black\"),\n",
    "    legend.position='None')\n",
    "print(p)\n",
    "dev.off()\n",
    "\n",
    "\n",
    "# uc2=c('L1','L2','L3','L4','L5','L6','WM')\n",
    "xx=data.frame(exp=dl_org@assays$RNA@data[genes,],clust=dl_org$celltype)\n",
    "yy=aggregate(xx$exp,list(xx$clust),'mean')\n",
    "zz=order(yy[,2])\n",
    "idx=c()\n",
    "for(i in as.character(yy[zz,1])){\n",
    "    idx=c(idx,which(uc2==i))\n",
    "}\n",
    "color_used=colors[idx]\n",
    "\n",
    "pdf(paste(dirs,'fig/allsample_org_vlnplot_celltype_',genes,'.pdf',sep=\"\"),height=1.8,width=1.8,useDingbats=FALSE)\n",
    "p<-VlnPlot(dl_org,features=genes,group.by='celltype',sort='decreasing',pt.size=0,cols =color_used)+\n",
    "theme_bw()+ylab('Expression Level')+\n",
    "theme(axis.text.x=element_text(size=8, face=\"bold\",colour = \"black\"),\n",
    "      axis.text.y=element_text(size=8, face=\"bold\",colour = \"black\"),\n",
    "      axis.title.x=element_blank(),\n",
    "#       axis.title.y=element_text(size=10, face=\"bold\",colour = \"black\"),\n",
    "      axis.title.y=element_blank(),\n",
    "      plot.title=element_text(face=\"bold\", size=10, colour = \"black\",hjust=0.5),\n",
    "      legend.text=element_text(size=7, colour = \"black\"),\n",
    "      legend.title=element_text(size=8, colour = \"black\"),\n",
    "      panel.border = element_blank(),\n",
    "      panel.grid.major=element_blank(),\n",
    "      panel.grid.minor=element_blank(),\n",
    "      axis.line=element_line(size=0.3, colour = \"black\"),\n",
    "      axis.ticks=element_line(size=0.3, colour = \"black\"),\n",
    "    legend.position='None')\n",
    "print(p)\n",
    "dev.off()"
   ]
  },
  {
   "cell_type": "code",
   "execution_count": 48,
   "id": "6c422f4f",
   "metadata": {},
   "outputs": [],
   "source": []
  },
  {
   "cell_type": "code",
   "execution_count": 40,
   "id": "bd69d511",
   "metadata": {},
   "outputs": [
    {
     "name": "stderr",
     "output_type": "stream",
     "text": [
      "Warning message:\n",
      "“`guides(<scale> = FALSE)` is deprecated. Please use `guides(<scale> = \"none\")` instead.”\n"
     ]
    },
    {
     "data": {
      "text/html": [
       "<strong>png:</strong> 2"
      ],
      "text/latex": [
       "\\textbf{png:} 2"
      ],
      "text/markdown": [
       "**png:** 2"
      ],
      "text/plain": [
       "png \n",
       "  2 "
      ]
     },
     "metadata": {},
     "output_type": "display_data"
    },
    {
     "name": "stderr",
     "output_type": "stream",
     "text": [
      "Warning message:\n",
      "“`guides(<scale> = FALSE)` is deprecated. Please use `guides(<scale> = \"none\")` instead.”\n"
     ]
    },
    {
     "data": {
      "text/html": [
       "<strong>png:</strong> 2"
      ],
      "text/latex": [
       "\\textbf{png:} 2"
      ],
      "text/markdown": [
       "**png:** 2"
      ],
      "text/plain": [
       "png \n",
       "  2 "
      ]
     },
     "metadata": {},
     "output_type": "display_data"
    },
    {
     "name": "stderr",
     "output_type": "stream",
     "text": [
      "Warning message:\n",
      "“`guides(<scale> = FALSE)` is deprecated. Please use `guides(<scale> = \"none\")` instead.”\n"
     ]
    },
    {
     "data": {
      "text/html": [
       "<strong>png:</strong> 2"
      ],
      "text/latex": [
       "\\textbf{png:} 2"
      ],
      "text/markdown": [
       "**png:** 2"
      ],
      "text/plain": [
       "png \n",
       "  2 "
      ]
     },
     "metadata": {},
     "output_type": "display_data"
    }
   ],
   "source": [
    "genes=c('FABP7','HPCAL1','FREM3','PVALB','MOBP','PCP4','KRT17','RORB','TRABD2A')\n",
    "ub[13]='aligned coordinate'\n",
    "i=13\n",
    "k=9\n",
    "# dl_org@images$image <- new(Class = 'SlideSeq',assay = \"Spatial\",key = \"image_\",coordinates=coord_new[colnames(dl_org@assays$RNA@data),])\n",
    "# dl_re@images$image <- new(Class = 'SlideSeq',assay = \"Spatial\",key = \"image_\",coordinates=coord_new[colnames(dl_re@assays$RNA@data),])\n",
    "# dl_seurat@images$image <- new(Class = 'SlideSeq',assay = \"Spatial\",key = \"image_\",coordinates=coord_new[colnames(dl_seurat@assays$RNA@data),])\n",
    "# dl_org1=dl_org\n",
    "# dl_re1=dl_re\n",
    "# dl_seurat1=dl_seurat\n",
    "# # dl_org1=subset(dl_org,subset=batch==ub[i])\n",
    "# # dl_re1=subset(dl_re,subset=batch==ub[i])\n",
    "# # dl_seurat1=subset(dl_seurat,subset=batch==ub[i])\n",
    "# a=t(apply(dl_org1@assays$RNA@data,1,scale))\n",
    "# colnames(a)<-colnames(dl_org1@assays$RNA@data)\n",
    "# dl_org1@assays$RNA@scale.data=a\n",
    "# a=t(apply(dl_re1@assays$RNA@data,1,scale))\n",
    "# colnames(a)<-colnames(dl_re1@assays$RNA@data)\n",
    "# dl_re1@assays$RNA@scale.data=a\n",
    "# a=t(apply(dl_seurat1@assays$RNA@data,1,scale))\n",
    "# colnames(a)<-colnames(dl_seurat1@assays$RNA@data)\n",
    "# dl_seurat1@assays$RNA@scale.data=a\n",
    "size=5\n",
    "# size=8\n",
    "png(paste(dirs,'fig/',ub[i],'_org_spaplot_',genes[k],'.png',sep=\"\"),width=800,height=800,res=500)\n",
    "# png(paste(dirs,'fig/new_coord_org_spaplot_',genes[k],'.png',sep=\"\"),width=800,height=800,res=500)\n",
    "p<-SpatialFeaturePlot(dl_org1, slot='scale.data',features=genes[k], alpha=c(1,1),ncol=1,pt.size.factor=size)+\n",
    "theme(\n",
    "    legend.position='None',\n",
    "#       legend.position='right',\n",
    "     legend.key.size = unit(0.5, 'cm'),\n",
    "    legend.key.height = unit(0.2, 'cm'),\n",
    "    legend.key.width = unit(0.2, 'cm'), \n",
    "     legend.text=element_text(size=5, colour = \"black\",face='bold'),\n",
    "     legend.title=element_text(size=6, colour = \"black\",face='bold'))\n",
    "print(p)\n",
    "dev.off()\n",
    "\n",
    "png(paste(dirs,'fig/',ub[i],'_re_spaplot_',genes[k],'.png',sep=\"\"),width=800,height=800,res=500)\n",
    "# png(paste(dirs,'fig/new_coord_re_spaplot_',genes[k],'.png',sep=\"\"),width=800,height=800,res=500)\n",
    "p<-SpatialFeaturePlot(dl_re1, features=genes[k], slot='scale.data',alpha=c(1,1),ncol=1,pt.size.factor=size)+\n",
    "theme(\n",
    "#     legend.position='right',\n",
    "    legend.position='None',\n",
    "     legend.key.size = unit(0.5, 'cm'),\n",
    "    legend.key.height = unit(0.2, 'cm'),\n",
    "    legend.key.width = unit(0.2, 'cm'), \n",
    "     legend.text=element_text(size=3, colour = \"black\",face='bold'),\n",
    "     legend.title=element_text(size=4, colour = \"black\",face='bold'))\n",
    "print(p)\n",
    "dev.off()\n",
    "\n",
    "png(paste(dirs,'fig/',ub[i],'_seurat_spaplot_',genes[k],'.png',sep=\"\"),width=800,height=800,res=500)\n",
    "# png(paste(dirs,'fig/new_coord_seurat_spaplot_',genes[k],'.png',sep=\"\"),width=800,height=800,res=500)\n",
    "p<-SpatialFeaturePlot(dl_seurat1, slot='scale.data',features=genes[k], alpha=c(1,1),ncol=1,pt.size.factor=size)+\n",
    "theme(\n",
    "#     legend.position='right',\n",
    "    legend.position='None',\n",
    "     legend.key.size = unit(0.5, 'cm'),\n",
    "    legend.key.height = unit(0.2, 'cm'),\n",
    "    legend.key.width = unit(0.2, 'cm'), \n",
    "     legend.text=element_text(size=3, colour = \"black\",face='bold'),\n",
    "     legend.title=element_text(size=4, colour = \"black\",face='bold'))\n",
    "print(p)\n",
    "dev.off()\n",
    "\n"
   ]
  },
  {
   "cell_type": "code",
   "execution_count": 41,
   "id": "8593bcd6",
   "metadata": {},
   "outputs": [
    {
     "name": "stderr",
     "output_type": "stream",
     "text": [
      "Warning message:\n",
      "“`guides(<scale> = FALSE)` is deprecated. Please use `guides(<scale> = \"none\")` instead.”\n"
     ]
    },
    {
     "data": {
      "text/html": [
       "<strong>png:</strong> 2"
      ],
      "text/latex": [
       "\\textbf{png:} 2"
      ],
      "text/markdown": [
       "**png:** 2"
      ],
      "text/plain": [
       "png \n",
       "  2 "
      ]
     },
     "metadata": {},
     "output_type": "display_data"
    },
    {
     "name": "stderr",
     "output_type": "stream",
     "text": [
      "Warning message:\n",
      "“`guides(<scale> = FALSE)` is deprecated. Please use `guides(<scale> = \"none\")` instead.”\n"
     ]
    },
    {
     "data": {
      "text/html": [
       "<strong>png:</strong> 2"
      ],
      "text/latex": [
       "\\textbf{png:} 2"
      ],
      "text/markdown": [
       "**png:** 2"
      ],
      "text/plain": [
       "png \n",
       "  2 "
      ]
     },
     "metadata": {},
     "output_type": "display_data"
    },
    {
     "name": "stderr",
     "output_type": "stream",
     "text": [
      "Warning message:\n",
      "“`guides(<scale> = FALSE)` is deprecated. Please use `guides(<scale> = \"none\")` instead.”\n"
     ]
    },
    {
     "data": {
      "text/html": [
       "<strong>png:</strong> 2"
      ],
      "text/latex": [
       "\\textbf{png:} 2"
      ],
      "text/markdown": [
       "**png:** 2"
      ],
      "text/plain": [
       "png \n",
       "  2 "
      ]
     },
     "metadata": {},
     "output_type": "display_data"
    }
   ],
   "source": [
    "pdf(paste(dirs,'fig/',ub[i],'_org_spaplot_',genes[k],'_legend.pdf',sep=\"\"),height=2.5,useDingbats=FALSE)\n",
    "p<-SpatialFeaturePlot(dl_org1, slot='scale.data',features=genes[k], alpha=c(1,1),ncol=1,pt.size.factor=size)+\n",
    "theme_bw()+\n",
    "theme(axis.text.x=element_text(size=8, colour = \"black\"),\n",
    "      axis.text.y=element_text(size=8, colour = \"black\"),\n",
    "      axis.title.x=element_text(size=10, colour = \"black\"),\n",
    "      axis.title.y=element_text(size=10, colour = \"black\"),\n",
    "      plot.title=element_text(face=\"plain\", size=10, colour = \"black\",hjust=0.5),\n",
    "      legend.text=element_text(size=9, colour = \"black\",face=\"plain\"),\n",
    "      legend.title=element_text(size=12, colour = \"black\",face=\"plain\"),\n",
    "      panel.border = element_blank(),\n",
    "      panel.grid.major=element_blank(),\n",
    "      panel.grid.minor=element_blank(),\n",
    "      axis.line=element_line(size=0.3, colour = \"black\"),\n",
    "      axis.ticks=element_line(size=0.3, colour = \"black\"),\n",
    "      aspect.ratio = 1,\n",
    "      legend.direction = \"vertical\", legend.box = \"horizontal\",\n",
    "      legend.key.size = unit(0.5, \"cm\"))\n",
    "print(p)\n",
    "dev.off()\n",
    "\n",
    "pdf(paste(dirs,'fig/',ub[i],'_re_spaplot_',genes[k],'_legend.pdf',sep=\"\"),height=2.5,useDingbats=FALSE)\n",
    "p<-SpatialFeaturePlot(dl_re1, features=genes[k], slot='scale.data',alpha=c(1,1),ncol=1,pt.size.factor=size)+\n",
    "theme_bw()+\n",
    "theme(axis.text.x=element_text(size=8, colour = \"black\"),\n",
    "      axis.text.y=element_text(size=8, colour = \"black\"),\n",
    "      axis.title.x=element_text(size=10, colour = \"black\"),\n",
    "      axis.title.y=element_text(size=10, colour = \"black\"),\n",
    "      plot.title=element_text(face=\"plain\", size=10, colour = \"black\",hjust=0.5),\n",
    "      legend.text=element_text(size=9, colour = \"black\",face=\"plain\"),\n",
    "      legend.title=element_text(size=12, colour = \"black\",face=\"plain\"),\n",
    "      panel.border = element_blank(),\n",
    "      panel.grid.major=element_blank(),\n",
    "      panel.grid.minor=element_blank(),\n",
    "      axis.line=element_line(size=0.3, colour = \"black\"),\n",
    "      axis.ticks=element_line(size=0.3, colour = \"black\"),\n",
    "      aspect.ratio = 1,\n",
    "      legend.direction = \"vertical\", legend.box = \"horizontal\",\n",
    "      legend.key.size = unit(0.5, \"cm\"))\n",
    "print(p)\n",
    "dev.off()\n",
    "\n",
    "pdf(paste(dirs,'fig/',ub[i],'_seurat_spaplot_',genes[k],'_legend.pdf',sep=\"\"),height=2.5,useDingbats=FALSE)\n",
    "p<-SpatialFeaturePlot(dl_seurat1, slot='scale.data',features=genes[k], alpha=c(1,1),ncol=1,pt.size.factor=size)+\n",
    "theme_bw()+\n",
    "theme(axis.text.x=element_text(size=8, colour = \"black\"),\n",
    "      axis.text.y=element_text(size=8, colour = \"black\"),\n",
    "      axis.title.x=element_text(size=10, colour = \"black\"),\n",
    "      axis.title.y=element_text(size=10, colour = \"black\"),\n",
    "      plot.title=element_text(face=\"plain\", size=10, colour = \"black\",hjust=0.5),\n",
    "      legend.text=element_text(size=9, colour = \"black\",face=\"plain\"),\n",
    "      legend.title=element_text(size=12, colour = \"black\",face=\"plain\"),\n",
    "      panel.border = element_blank(),\n",
    "      panel.grid.major=element_blank(),\n",
    "      panel.grid.minor=element_blank(),\n",
    "      axis.line=element_line(size=0.3, colour = \"black\"),\n",
    "      axis.ticks=element_line(size=0.3, colour = \"black\"),\n",
    "      aspect.ratio = 1,\n",
    "      legend.direction = \"vertical\", legend.box = \"horizontal\",\n",
    "      legend.key.size = unit(0.5, \"cm\"))\n",
    "print(p)\n",
    "dev.off()\n",
    "\n"
   ]
  },
  {
   "cell_type": "code",
   "execution_count": null,
   "id": "04ff0cc1",
   "metadata": {},
   "outputs": [],
   "source": []
  }
 ],
 "metadata": {
  "kernelspec": {
   "display_name": "seurat1",
   "language": "R",
   "name": "seurat1"
  },
  "language_info": {
   "codemirror_mode": "r",
   "file_extension": ".r",
   "mimetype": "text/x-r-source",
   "name": "R",
   "pygments_lexer": "r",
   "version": "4.1.1"
  }
 },
 "nbformat": 4,
 "nbformat_minor": 5
}
